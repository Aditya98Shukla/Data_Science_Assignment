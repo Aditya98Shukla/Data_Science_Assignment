{
 "cells": [
  {
   "cell_type": "markdown",
   "id": "f5ff2ec2-34ab-4408-9588-2052a3a088f1",
   "metadata": {},
   "source": [
    "# Assignment-03-Q1 (Hypothesis Testing)"
   ]
  },
  {
   "cell_type": "markdown",
   "id": "daa032a4-d990-4467-8c3b-f97a1f36a3fa",
   "metadata": {},
   "source": [
    "A F&B manager wants to determine whether there is any significant difference in the diameter of the cutlet between two units. A randomly selected sample of cutlets was collected from both units and measured? Analyze the data and draw inferences at 5% significance level. Please state the assumptions and tests that you carried out to check validity of the assumptions. Consider Cutlets.csv as the dataset."
   ]
  },
  {
   "cell_type": "markdown",
   "id": "57ad9483-5aec-4f66-95f6-cfd1b0a1a479",
   "metadata": {},
   "source": [
    "## Ans."
   ]
  },
  {
   "cell_type": "markdown",
   "id": "c945fc97-2942-46df-b4f7-1ad3c54e85b3",
   "metadata": {},
   "source": [
    "We are going to conduct a 2 tailed t-Test on 2 Independent samples with Numerical Data. \n",
    "We need to check whether the mean of both samples are different and Is there any significant difference between the two sample."
   ]
  },
  {
   "cell_type": "markdown",
   "id": "00c155ba-ae60-4160-8144-c1aec30bba63",
   "metadata": {},
   "source": [
    "### Step 1"
   ]
  },
  {
   "cell_type": "markdown",
   "id": "c2a5e277-c8c9-453b-80a8-74205849efeb",
   "metadata": {},
   "source": [
    "Make two Hypothesis one contradicting to other\n",
    "Null Hypothesis is what we want to prove  \n",
    "Null Hypothesis: Ho: μ1 = μ2 (There is no difference in diameters of cutlets between two units).  \n",
    "Alternative Hypthosis: Ha: μ1 ≠ μ2 (There is significant difference in diameters of cutlets between two units)."
   ]
  },
  {
   "cell_type": "markdown",
   "id": "d86bcf00-07b7-456d-9e6e-79086cba4494",
   "metadata": {},
   "source": [
    "### Step 2"
   ]
  },
  {
   "cell_type": "markdown",
   "id": "411b4ffc-f277-4065-86cb-58aa503853b9",
   "metadata": {},
   "source": [
    "Decide a cut-off value\n",
    "<ul>\n",
    "<li>Significance 5% </li>\n",
    "<li>alpha = 0.05 </li>\n",
    "</ul>\n",
    "As it is a two-tailed test  \n",
    "<ul>\n",
    "<li>alpha/2 = 0.025 </li>\n",
    "</ul>"
   ]
  },
  {
   "cell_type": "markdown",
   "id": "7bc592c1-6666-4b8a-8a13-491da97feed3",
   "metadata": {},
   "source": [
    "### Step 3"
   ]
  },
  {
   "cell_type": "markdown",
   "id": "aa3e6e0e-fb00-418f-94f7-ebb8f15bc67c",
   "metadata": {},
   "source": [
    "Collect Evidence"
   ]
  },
  {
   "cell_type": "code",
   "execution_count": 1,
   "id": "b70954d3-7e59-430a-b82c-e09726e2403f",
   "metadata": {},
   "outputs": [],
   "source": [
    "import pandas as pd\n",
    "import numpy as np\n",
    "from scipy import stats\n",
    "from scipy.stats import norm"
   ]
  },
  {
   "cell_type": "code",
   "execution_count": 2,
   "id": "47c45021-a97d-4cf8-9326-10121a1b0e42",
   "metadata": {},
   "outputs": [
    {
     "data": {
      "text/html": [
       "<div>\n",
       "<style scoped>\n",
       "    .dataframe tbody tr th:only-of-type {\n",
       "        vertical-align: middle;\n",
       "    }\n",
       "\n",
       "    .dataframe tbody tr th {\n",
       "        vertical-align: top;\n",
       "    }\n",
       "\n",
       "    .dataframe thead th {\n",
       "        text-align: right;\n",
       "    }\n",
       "</style>\n",
       "<table border=\"1\" class=\"dataframe\">\n",
       "  <thead>\n",
       "    <tr style=\"text-align: right;\">\n",
       "      <th></th>\n",
       "      <th>Unit A</th>\n",
       "      <th>Unit B</th>\n",
       "    </tr>\n",
       "  </thead>\n",
       "  <tbody>\n",
       "    <tr>\n",
       "      <th>0</th>\n",
       "      <td>6.8090</td>\n",
       "      <td>6.7703</td>\n",
       "    </tr>\n",
       "    <tr>\n",
       "      <th>1</th>\n",
       "      <td>6.4376</td>\n",
       "      <td>7.5093</td>\n",
       "    </tr>\n",
       "    <tr>\n",
       "      <th>2</th>\n",
       "      <td>6.9157</td>\n",
       "      <td>6.7300</td>\n",
       "    </tr>\n",
       "  </tbody>\n",
       "</table>\n",
       "</div>"
      ],
      "text/plain": [
       "   Unit A  Unit B\n",
       "0  6.8090  6.7703\n",
       "1  6.4376  7.5093\n",
       "2  6.9157  6.7300"
      ]
     },
     "execution_count": 2,
     "metadata": {},
     "output_type": "execute_result"
    }
   ],
   "source": [
    "df=pd.read_csv('03_04_Cutlets.csv')\n",
    "df.head(3)"
   ]
  },
  {
   "cell_type": "code",
   "execution_count": 3,
   "id": "03d2c943-fc99-43c4-8b5e-01e68a954617",
   "metadata": {},
   "outputs": [],
   "source": [
    "unitA = df['Unit A']\n",
    "unitB = df['Unit B']"
   ]
  },
  {
   "cell_type": "markdown",
   "id": "0951a7ee-33c7-4c43-a8aa-89caa56b33eb",
   "metadata": {},
   "source": [
    "#### 2-sample 2-tail ttest"
   ]
  },
  {
   "cell_type": "code",
   "execution_count": 4,
   "id": "e6094e8e-bd35-40b1-82c9-6edcca4d7fe0",
   "metadata": {},
   "outputs": [
    {
     "data": {
      "text/plain": [
       "0.7228688704678063"
      ]
     },
     "execution_count": 4,
     "metadata": {},
     "output_type": "execute_result"
    }
   ],
   "source": [
    "test_statistic, p_value = stats.ttest_ind(unitA,unitB)\n",
    "test_statistic "
   ]
  },
  {
   "cell_type": "markdown",
   "id": "dda7f08d-658f-4e35-bd55-f73ae15cf87e",
   "metadata": {},
   "source": [
    "#### Two methods to decide where we should accept or reject the null hypothesis."
   ]
  },
  {
   "cell_type": "markdown",
   "id": "96382e76-ce81-4c6d-95d6-2523facb3009",
   "metadata": {},
   "source": [
    "#### Method A: Using Critical values"
   ]
  },
  {
   "cell_type": "code",
   "execution_count": 5,
   "id": "50865e2e-32d2-4d08-bc7a-db1d4409a111",
   "metadata": {},
   "outputs": [
    {
     "data": {
      "text/plain": [
       "7.814727903251179"
      ]
     },
     "execution_count": 5,
     "metadata": {},
     "output_type": "execute_result"
    }
   ],
   "source": [
    "critical_value = stats.chi2.ppf(0.95,3)\n",
    "critical_value"
   ]
  },
  {
   "cell_type": "code",
   "execution_count": 6,
   "id": "ab591b77-67be-4f3b-a85c-8d7836f98245",
   "metadata": {},
   "outputs": [
    {
     "name": "stdout",
     "output_type": "stream",
     "text": [
      "Independent (fail to reject H0)\n"
     ]
    }
   ],
   "source": [
    "if test_statistic >= critical_value:\n",
    "\tprint('Dependent (reject H0)')\n",
    "else:\n",
    "\tprint('Independent (fail to reject H0)')"
   ]
  },
  {
   "cell_type": "markdown",
   "id": "e7b37993-4b84-4de3-9464-ae0e2d93c165",
   "metadata": {},
   "source": [
    "#### Method B: Using p values"
   ]
  },
  {
   "cell_type": "markdown",
   "id": "cba87e65-a0f8-4d2b-81bd-70376f05a4fb",
   "metadata": {},
   "source": [
    "Interpret the results:   \n",
    "If the p-value is less than the significance level alpha (5% in this case), we reject the null hypothesis and conclude that there is a significant difference in the diameter of the cutlet between the two units.  \n",
    "If the p-value is greater than the significance level, we fail to reject the null hypothesis and conclude that there is not enough evidence to suggest a significant difference."
   ]
  },
  {
   "cell_type": "code",
   "execution_count": 7,
   "id": "66bfe864-2bc8-4bd7-9453-18ccefb2461e",
   "metadata": {},
   "outputs": [
    {
     "name": "stdout",
     "output_type": "stream",
     "text": [
      "Significance=0.025, p=0.472\n",
      "\n",
      "We fail to reject Null hypothesis\n"
     ]
    }
   ],
   "source": [
    "alpha = 0.025\n",
    "print('Significance=%.3f, p=%.3f\\n' % (alpha, p_value))\n",
    "if p_value <= alpha:\n",
    "    print('We reject Null Hypothesis that there is a significant difference between two Units A and B')\n",
    "else:\n",
    "    print('We fail to reject Null hypothesis')"
   ]
  },
  {
   "cell_type": "markdown",
   "id": "e7c0f7fb-b458-4138-bcc1-33b4c3485241",
   "metadata": {},
   "source": [
    "### Since p_value > alpha , We fail to reject Null Hypothesis that there is no significant difference between the two samples."
   ]
  },
  {
   "cell_type": "markdown",
   "id": "9bbef4eb-d29b-4bad-bce0-94184e254911",
   "metadata": {},
   "source": [
    "# Assignment-03-Q2 (Hypothesis Testing)"
   ]
  },
  {
   "cell_type": "markdown",
   "id": "e37035d6-cc4a-41f2-b900-cdabc1097d33",
   "metadata": {},
   "source": [
    "A hospital wants to determine whether there is any difference in the average Turn Around Time (TAT) of reports of the laboratories on their preferred list. They collected a random sample and recorded TAT for reports of 4 laboratories. TAT is defined as sample collected to report dispatch. Analyze the data and determine whether there is any difference in average TAT among the different laboratories at 5% significance level.\r\n",
    "Dataset is LabTAT.csv"
   ]
  },
  {
   "cell_type": "markdown",
   "id": "f94acbfd-a7cf-4ec9-98c5-2a469c8d966d",
   "metadata": {},
   "source": [
    "## Ans."
   ]
  },
  {
   "cell_type": "markdown",
   "id": "1a739ca3-b54a-4b4f-92d5-e63a5aa84587",
   "metadata": {},
   "source": [
    "This problem is regarding Analysis of variance between more than 2 samples or columns. We are going to conduct a ANOVA Test on 4 Independent samples with Numerical Data. \n",
    "We need to check whether the mean of any of these samples are different or the same."
   ]
  },
  {
   "cell_type": "markdown",
   "id": "ac98a204-82c0-45e3-9aad-22ec6593c584",
   "metadata": {},
   "source": [
    "### Step 1"
   ]
  },
  {
   "cell_type": "markdown",
   "id": "e6c8555f-39bd-4228-a11f-3674dddb74cd",
   "metadata": {},
   "source": [
    "Make two Hypothesis one contradicting to other  \n",
    "Null Hypothesis is what we want to prove  \n",
    "Null Hypothesis Ho as: μ1 = μ2 = μ3 = μ4, All samples TAT population means are same.    \n",
    "Alternative Hypthosis Ha as: Atleast one sample TAT population mean is different"
   ]
  },
  {
   "cell_type": "markdown",
   "id": "e9d26a7c-0af4-4d2d-8506-844f64ea474d",
   "metadata": {},
   "source": [
    "### Step 2"
   ]
  },
  {
   "cell_type": "markdown",
   "id": "1d097efb-21b9-4b4e-a5f4-f470c480da8e",
   "metadata": {},
   "source": [
    "Decide a cut-off value\n",
    "<ul>\n",
    "<li>Significance 5% </li>\n",
    "<li>alpha = 0.05 </li>\n",
    "</ul>"
   ]
  },
  {
   "cell_type": "markdown",
   "id": "3006f996-546a-4025-8190-95a8efd0caff",
   "metadata": {},
   "source": [
    "### Step 3"
   ]
  },
  {
   "cell_type": "markdown",
   "id": "90ef4892-ffaa-436c-8e18-0b50f0af1edc",
   "metadata": {},
   "source": [
    "Collect Evidence"
   ]
  },
  {
   "cell_type": "code",
   "execution_count": 8,
   "id": "ff1fe84d-b757-4f50-9cb0-684f608ca078",
   "metadata": {},
   "outputs": [],
   "source": [
    "import pandas as pd\n",
    "import numpy as np\n",
    "from scipy import stats\n",
    "from scipy.stats import norm"
   ]
  },
  {
   "cell_type": "code",
   "execution_count": 9,
   "id": "4f0db9e8-bff8-493a-a722-d9f536aefbf1",
   "metadata": {},
   "outputs": [
    {
     "data": {
      "text/html": [
       "<div>\n",
       "<style scoped>\n",
       "    .dataframe tbody tr th:only-of-type {\n",
       "        vertical-align: middle;\n",
       "    }\n",
       "\n",
       "    .dataframe tbody tr th {\n",
       "        vertical-align: top;\n",
       "    }\n",
       "\n",
       "    .dataframe thead th {\n",
       "        text-align: right;\n",
       "    }\n",
       "</style>\n",
       "<table border=\"1\" class=\"dataframe\">\n",
       "  <thead>\n",
       "    <tr style=\"text-align: right;\">\n",
       "      <th></th>\n",
       "      <th>Laboratory 1</th>\n",
       "      <th>Laboratory 2</th>\n",
       "      <th>Laboratory 3</th>\n",
       "      <th>Laboratory 4</th>\n",
       "    </tr>\n",
       "  </thead>\n",
       "  <tbody>\n",
       "    <tr>\n",
       "      <th>0</th>\n",
       "      <td>185.35</td>\n",
       "      <td>165.53</td>\n",
       "      <td>176.70</td>\n",
       "      <td>166.13</td>\n",
       "    </tr>\n",
       "    <tr>\n",
       "      <th>1</th>\n",
       "      <td>170.49</td>\n",
       "      <td>185.91</td>\n",
       "      <td>198.45</td>\n",
       "      <td>160.79</td>\n",
       "    </tr>\n",
       "    <tr>\n",
       "      <th>2</th>\n",
       "      <td>192.77</td>\n",
       "      <td>194.92</td>\n",
       "      <td>201.23</td>\n",
       "      <td>185.18</td>\n",
       "    </tr>\n",
       "  </tbody>\n",
       "</table>\n",
       "</div>"
      ],
      "text/plain": [
       "   Laboratory 1  Laboratory 2  Laboratory 3  Laboratory 4\n",
       "0        185.35        165.53        176.70        166.13\n",
       "1        170.49        185.91        198.45        160.79\n",
       "2        192.77        194.92        201.23        185.18"
      ]
     },
     "execution_count": 9,
     "metadata": {},
     "output_type": "execute_result"
    }
   ],
   "source": [
    "df = pd.read_csv('03_05_LabTAT.csv')\n",
    "df.head(3)"
   ]
  },
  {
   "cell_type": "markdown",
   "id": "e543cf43-0d0b-4610-bcbc-1eb521f8564d",
   "metadata": {},
   "source": [
    "#### Anova ftest statistics: stats.f_oneway(column-1,column-2,column-3,column-4)"
   ]
  },
  {
   "cell_type": "code",
   "execution_count": 10,
   "id": "4fa9d5c5-45c7-475f-b81f-72a14585a54c",
   "metadata": {},
   "outputs": [
    {
     "data": {
      "text/plain": [
       "(118.70421654401437, 2.1156708949992414e-57)"
      ]
     },
     "execution_count": 10,
     "metadata": {},
     "output_type": "execute_result"
    }
   ],
   "source": [
    "test_statistic , p_value=stats.f_oneway(df.iloc[:,0],df.iloc[:,1],df['Laboratory 3'],df['Laboratory 4'])\n",
    "test_statistic , p_value"
   ]
  },
  {
   "cell_type": "markdown",
   "id": "7adae8d6-0a47-4937-8420-f2d681ea7b70",
   "metadata": {},
   "source": [
    "#### Two methods to decide where we should accept or reject the null hypothesis."
   ]
  },
  {
   "cell_type": "markdown",
   "id": "434994a8-1a30-4450-a729-418584c6114c",
   "metadata": {},
   "source": [
    "#### Method A: Using Critical values"
   ]
  },
  {
   "cell_type": "code",
   "execution_count": 11,
   "id": "b914e2fd-0c12-4731-b7de-6c2e685e1870",
   "metadata": {},
   "outputs": [
    {
     "data": {
      "text/plain": [
       "7.814727903251179"
      ]
     },
     "execution_count": 11,
     "metadata": {},
     "output_type": "execute_result"
    }
   ],
   "source": [
    "critical_value = stats.chi2.ppf(0.95,3)\n",
    "critical_value"
   ]
  },
  {
   "cell_type": "code",
   "execution_count": 12,
   "id": "2b3aae59-c6c4-409f-9d1d-a38ffe364230",
   "metadata": {},
   "outputs": [
    {
     "name": "stdout",
     "output_type": "stream",
     "text": [
      "Dependent (reject H0)\n"
     ]
    }
   ],
   "source": [
    "if test_statistic >= critical_value:\n",
    "\tprint('Dependent (reject H0)')\n",
    "else:\n",
    "\tprint('Independent (fail to reject H0)')"
   ]
  },
  {
   "cell_type": "markdown",
   "id": "d89f4bf2-6805-4067-8065-fec989c5a63e",
   "metadata": {},
   "source": [
    "#### Method B: Using P values"
   ]
  },
  {
   "cell_type": "markdown",
   "id": "7ef0cdbe-40db-4b76-bac8-7418afbd558b",
   "metadata": {},
   "source": [
    "Compare p_value with Significane Level alpha.  \n",
    "\n",
    "If p_value is != alpha we failed to reject Null Hypothesis because of lack of evidence  \n",
    "If p_value is = alpha we reject Null Hypothesis "
   ]
  },
  {
   "cell_type": "code",
   "execution_count": 13,
   "id": "a3b9bd9b-a504-430b-97f9-be47932bee32",
   "metadata": {},
   "outputs": [
    {
     "name": "stdout",
     "output_type": "stream",
     "text": [
      "Significance=0.050, p=0.000\n",
      "\n",
      "We reject Null Hypothesis there is a significant difference between TAT of reports of the laboratories\n"
     ]
    }
   ],
   "source": [
    "alpha = 0.05\n",
    "print('Significance=%.3f, p=%.3f\\n' % (alpha, p_value))\n",
    "if p_value <= alpha:\n",
    "    print('We reject Null Hypothesis there is a significant difference between TAT of reports of the laboratories')\n",
    "else:\n",
    "    print('Independent. We fail to reject Null hypothesis')"
   ]
  },
  {
   "cell_type": "markdown",
   "id": "dca9bd24-33fc-4808-99a1-ec4ac4ff1644",
   "metadata": {},
   "source": [
    "### Since Hence, We fail to reject Null Hypothesis because of lack evidence, there is no significant difference between the samples"
   ]
  },
  {
   "cell_type": "markdown",
   "id": "1253b2f2-8571-4157-9ab6-9dec8d98d5d8",
   "metadata": {},
   "source": [
    "# Assignment-03-Q3 (Hypothesis Testing)"
   ]
  },
  {
   "cell_type": "markdown",
   "id": "922459a9-ab01-4cca-ba0c-91254ff1c18b",
   "metadata": {},
   "source": [
    "Sales of products in four different regions is tabulated for males and females. Find if male-female buyer rations are similar across regions."
   ]
  },
  {
   "cell_type": "markdown",
   "id": "d04b13e2-3140-4444-b20c-305826161b30",
   "metadata": {},
   "source": [
    "## \n",
    "<table>\n",
    "<tr>\n",
    "<th> </th>\n",
    "<th> East </th>\n",
    "<th> West </th>\n",
    "<th> North </th>\n",
    "<th> South </th>\n",
    "</tr>\n",
    "<tr>\n",
    "<td> Males </td>\n",
    "<td> 50 </td>\n",
    "<td> 142 </td>\n",
    "<td> 131 </td>\n",
    "<td> 70 </td>\n",
    "</tr>\n",
    "<tr>\n",
    "<td> Females </td>\n",
    "<td> 550 </td>\n",
    "<td> 351 </td>\n",
    "<td> 480 </td>\n",
    "<td> 350 </td>\n",
    "</tr>\n",
    "</table>"
   ]
  },
  {
   "attachments": {
    "b36d5478-4216-43b6-b41e-593940a06bd6.png": {
     "image/png": "[encoded data removed]"
    }
   },
   "cell_type": "markdown",
   "id": "e338be93-23cf-43bf-99a5-a423e73bc663",
   "metadata": {},
   "source": [
    "![image.png](attachment:b36d5478-4216-43b6-b41e-593940a06bd6.png)"
   ]
  },
  {
   "cell_type": "markdown",
   "id": "629e59ab-6b58-445f-99be-1c38e5ce271b",
   "metadata": {},
   "source": [
    "## Ans."
   ]
  },
  {
   "cell_type": "markdown",
   "id": "4b8dada0-c292-4a95-859f-9a84dc713636",
   "metadata": {
    "scrolled": true
   },
   "source": [
    "We are going to conduct a Test of Independence using Chi-Square  test with Contingency table. \r\n",
    "We need to check whether the proportion of any of these samples are different or same."
   ]
  },
  {
   "cell_type": "markdown",
   "id": "2f7450a0-e30e-46e7-a094-275f25ee5c9a",
   "metadata": {},
   "source": [
    "### Step 1"
   ]
  },
  {
   "cell_type": "markdown",
   "id": "94ba73ce-ca51-4b1f-8a50-88345bf025a8",
   "metadata": {},
   "source": [
    "Make two Hypothesis one contradicting to other  \n",
    "Null Hypothesis is what we want to prove  \n",
    "<ul>\n",
    "<li>Null Hypothesis: There is no association or dependency between the gender based buyer rations across regions  </li>\n",
    "<li>Alternative Hypthosis: There is a significant association or dependency between the gender based buyer rations across regions  </li>\n",
    "</ul>"
   ]
  },
  {
   "cell_type": "markdown",
   "id": "4744d1bc-d5b3-4ad7-b7c5-19b213461652",
   "metadata": {},
   "source": [
    "### Step 2"
   ]
  },
  {
   "cell_type": "markdown",
   "id": "700db3c0-a90a-4840-88cd-595706e7b4dd",
   "metadata": {},
   "source": [
    "Decide a cut-off value\n",
    "<ul>\n",
    "<li>Significance 5% </li>\n",
    "<li>alpha = 0.05 </li>\n",
    "</ul>\n",
    "As it is a one-tailed test  \n",
    "<ul>\n",
    "<li>alpha = 1 - 0.95 = 0.05 </li>\n",
    "</ul>"
   ]
  },
  {
   "cell_type": "markdown",
   "id": "c40063de-5919-4186-a652-e02682269191",
   "metadata": {},
   "source": [
    "### Step 3"
   ]
  },
  {
   "cell_type": "markdown",
   "id": "df08a1e1-9c4a-4e9c-8a25-8ba814de3992",
   "metadata": {},
   "source": [
    "Collect Evidence"
   ]
  },
  {
   "cell_type": "code",
   "execution_count": 14,
   "id": "2c69250d-0724-43a9-8e40-a19662e74949",
   "metadata": {},
   "outputs": [],
   "source": [
    "import pandas as pd\n",
    "import numpy as np\n",
    "from scipy import stats\n",
    "from scipy.stats import norm\n",
    "from scipy.stats import chi2_contingency"
   ]
  },
  {
   "cell_type": "code",
   "execution_count": 15,
   "id": "d5eb1dc2-dad0-4f67-aad2-2dee12a64b41",
   "metadata": {},
   "outputs": [
    {
     "data": {
      "text/html": [
       "<div>\n",
       "<style scoped>\n",
       "    .dataframe tbody tr th:only-of-type {\n",
       "        vertical-align: middle;\n",
       "    }\n",
       "\n",
       "    .dataframe tbody tr th {\n",
       "        vertical-align: top;\n",
       "    }\n",
       "\n",
       "    .dataframe thead th {\n",
       "        text-align: right;\n",
       "    }\n",
       "</style>\n",
       "<table border=\"1\" class=\"dataframe\">\n",
       "  <thead>\n",
       "    <tr style=\"text-align: right;\">\n",
       "      <th></th>\n",
       "      <th>Observed Values</th>\n",
       "      <th>East</th>\n",
       "      <th>West</th>\n",
       "      <th>North</th>\n",
       "      <th>South</th>\n",
       "    </tr>\n",
       "  </thead>\n",
       "  <tbody>\n",
       "    <tr>\n",
       "      <th>0</th>\n",
       "      <td>Males</td>\n",
       "      <td>50</td>\n",
       "      <td>142</td>\n",
       "      <td>131</td>\n",
       "      <td>70</td>\n",
       "    </tr>\n",
       "    <tr>\n",
       "      <th>1</th>\n",
       "      <td>Females</td>\n",
       "      <td>435</td>\n",
       "      <td>1523</td>\n",
       "      <td>1356</td>\n",
       "      <td>750</td>\n",
       "    </tr>\n",
       "  </tbody>\n",
       "</table>\n",
       "</div>"
      ],
      "text/plain": [
       "  Observed Values  East  West  North  South\n",
       "0           Males    50   142    131     70\n",
       "1         Females   435  1523   1356    750"
      ]
     },
     "execution_count": 15,
     "metadata": {},
     "output_type": "execute_result"
    }
   ],
   "source": [
    "df=pd.read_csv('03_02_BuyerRatio.csv')\n",
    "df.head(3)"
   ]
  },
  {
   "cell_type": "code",
   "execution_count": 16,
   "id": "58a34831-6c04-4d5e-a667-7025cd2d39c8",
   "metadata": {},
   "outputs": [
    {
     "name": "stdout",
     "output_type": "stream",
     "text": [
      "Degree of Freedom = 3\n"
     ]
    }
   ],
   "source": [
    "no_of_rows=len(df.iloc[0:2,0])\n",
    "no_of_columns=len(df.iloc[0,0:4])\n",
    "degree_of_f=(no_of_rows-1)*(no_of_columns-1)\n",
    "print('Degree of Freedom =',degree_of_f)"
   ]
  },
  {
   "cell_type": "code",
   "execution_count": 17,
   "id": "75a7c2a9-f853-41d7-9ca2-1c5d8726b496",
   "metadata": {},
   "outputs": [],
   "source": [
    "observed = df[['East','West','North','South']].values"
   ]
  },
  {
   "cell_type": "markdown",
   "id": "a396899a-b2ff-4d3b-91dc-9fc43a66e781",
   "metadata": {},
   "source": [
    "### Step 4\n",
    "Comparing Evidence with Hypothesis"
   ]
  },
  {
   "cell_type": "markdown",
   "id": "80f2d8bf-ed85-4a7a-9dc4-9d5141cb4167",
   "metadata": {},
   "source": [
    "#### Applying Chi-Square contingency table to convert observed value into expected value"
   ]
  },
  {
   "cell_type": "code",
   "execution_count": 18,
   "id": "cf6c67d5-3bf5-4b15-84ef-fec6d8d523c0",
   "metadata": {},
   "outputs": [
    {
     "data": {
      "text/plain": [
       "(1.595945538661058, 0.6603094907091882)"
      ]
     },
     "execution_count": 18,
     "metadata": {},
     "output_type": "execute_result"
    }
   ],
   "source": [
    "chi2_statistic, p_value, df, expected = stats.chi2_contingency(observed)\n",
    "chi2_statistic, p_value"
   ]
  },
  {
   "cell_type": "markdown",
   "id": "d5d8f261-069f-452f-a646-0b70e3275efd",
   "metadata": {},
   "source": [
    "#### Two methods to decide where we should accept or reject the null hypothesis."
   ]
  },
  {
   "cell_type": "markdown",
   "id": "cf404a74-629c-4918-8d5c-bb3a282d8ce5",
   "metadata": {},
   "source": [
    "#### Method A: Using Critical values"
   ]
  },
  {
   "cell_type": "code",
   "execution_count": 19,
   "id": "430dc620-259c-4099-9c69-aa8cc087634c",
   "metadata": {},
   "outputs": [
    {
     "data": {
      "text/plain": [
       "7.814727903251179"
      ]
     },
     "execution_count": 19,
     "metadata": {},
     "output_type": "execute_result"
    }
   ],
   "source": [
    "critical_value = stats.chi2.ppf(0.95,3)\n",
    "critical_value"
   ]
  },
  {
   "cell_type": "code",
   "execution_count": 20,
   "id": "ef72d075-092e-4e33-b05d-644c257822c7",
   "metadata": {},
   "outputs": [
    {
     "name": "stdout",
     "output_type": "stream",
     "text": [
      "Independent (fail to reject H0)\n"
     ]
    }
   ],
   "source": [
    "if chi2_statistic >= critical_value:\n",
    "\tprint('Dependent (reject H0)')\n",
    "else:\n",
    "\tprint('Independent (fail to reject H0)')"
   ]
  },
  {
   "cell_type": "markdown",
   "id": "7516a407-6c8c-48e0-b8a0-c147b466b149",
   "metadata": {},
   "source": [
    "#### Method B: Using P values"
   ]
  },
  {
   "cell_type": "code",
   "execution_count": 21,
   "id": "50a16f90-c27d-47c1-b7f7-48c6a131072b",
   "metadata": {},
   "outputs": [
    {
     "data": {
      "text/plain": [
       "(0.6603094907091882, 0.6603094907091882)"
      ]
     },
     "execution_count": 21,
     "metadata": {},
     "output_type": "execute_result"
    }
   ],
   "source": [
    "p_value, 1-stats.chi2.cdf(chi2_statistic,3)"
   ]
  },
  {
   "cell_type": "code",
   "execution_count": 22,
   "id": "d81b9719-cc35-4b50-9450-864399008402",
   "metadata": {},
   "outputs": [
    {
     "name": "stdout",
     "output_type": "stream",
     "text": [
      "Significance=0.050, p=0.660\n",
      "\n",
      "Independent. We fail to reject Null hypothesis\n"
     ]
    }
   ],
   "source": [
    "alpha = 0.05\n",
    "print('Significance=%.3f, p=%.3f\\n' % (alpha, p_value))\n",
    "if p_value <= alpha:\n",
    "    print('We reject Null Hypothesis there is a significant difference between TAT of reports of the laboratories')\n",
    "else:\n",
    "    print('Independent. We fail to reject Null hypothesis')"
   ]
  },
  {
   "cell_type": "markdown",
   "id": "af64e3a5-70f2-4426-8fd0-516f8dbcc412",
   "metadata": {},
   "source": [
    "### Since p_value > alpha, we fail to reject Null Hypothesis because of lack evidence. Therefore, there is no association or dependency between male-female buyers rations and are similar across regions."
   ]
  },
  {
   "cell_type": "markdown",
   "id": "2422889d-dbe7-41d1-b239-e94d7e75165f",
   "metadata": {},
   "source": [
    "# Assignment-03-Q4 (Hypothesis Testing)"
   ]
  },
  {
   "cell_type": "markdown",
   "id": "aa4fff04-1d99-47b3-8b9a-53559ded0212",
   "metadata": {},
   "source": [
    "TeleCall uses 4 centers around the globe to process customer order forms. They audit a certain % of the customer order forms. Any error in order form renders it defective and has to be reworked before processing. The manager wants to check whether the defective % varies by centre. Please analyze the data at 5% significance level and help the manager draw appropriate inferences."
   ]
  },
  {
   "cell_type": "markdown",
   "id": "103a9da7-a33b-4b8b-9aff-ea6efd6ae535",
   "metadata": {},
   "source": [
    "## Ans."
   ]
  },
  {
   "cell_type": "markdown",
   "id": "8515ed1a-d9ac-4d58-b302-97d41a8ec35d",
   "metadata": {},
   "source": [
    "We are going to conduct a Test of Independence using Chi-Square test with Contingency table. We need to check whether the mean of any of these samples are same or different."
   ]
  },
  {
   "cell_type": "markdown",
   "id": "581553da-ecaf-4715-a417-f63f603bbcfe",
   "metadata": {},
   "source": [
    "### Step 1"
   ]
  },
  {
   "cell_type": "markdown",
   "id": "b19b3db1-0bc5-4876-b407-7095c5457840",
   "metadata": {},
   "source": [
    "Make two Hypothesis one contradicting to other  \n",
    "Null Hypothesis is what we want to prove  \n",
    "<ul>\n",
    "<li>Null Hypothesis: μ1 = μ2 = μ3 = μ4</li>\n",
    "<li>Alternative Hypthosis: Atleast One of them is Different </li>\n",
    "</ul>"
   ]
  },
  {
   "cell_type": "markdown",
   "id": "1cec201f-d083-4b76-9724-d0a7737baa82",
   "metadata": {},
   "source": [
    "### Step 2"
   ]
  },
  {
   "cell_type": "markdown",
   "id": "d0e8e290-5549-4e2e-b70c-73e6176f9088",
   "metadata": {},
   "source": [
    "Decide a cut-off value\n",
    "<ul>\n",
    "<li>Significance 5% </li>\n",
    "<li>alpha = 0.05 </li>\n",
    "</ul>"
   ]
  },
  {
   "cell_type": "markdown",
   "id": "2f5d73f3-b271-4ae9-9d64-072153529a47",
   "metadata": {},
   "source": [
    "### Step 3"
   ]
  },
  {
   "cell_type": "markdown",
   "id": "b88bf618-3d9c-48a0-8764-533bb19a681e",
   "metadata": {},
   "source": [
    "Collect Evidence"
   ]
  },
  {
   "cell_type": "code",
   "execution_count": 23,
   "id": "b49336d5-022d-4f37-a512-03bc01bfe829",
   "metadata": {},
   "outputs": [],
   "source": [
    "import pandas as pd\n",
    "import numpy as np\n",
    "from scipy import stats\n",
    "from scipy.stats import norm\n",
    "from scipy.stats import chi2_contingency"
   ]
  },
  {
   "cell_type": "code",
   "execution_count": 24,
   "id": "e314c540-3b20-4973-bc8c-75c11e515bb1",
   "metadata": {},
   "outputs": [
    {
     "data": {
      "text/html": [
       "<div>\n",
       "<style scoped>\n",
       "    .dataframe tbody tr th:only-of-type {\n",
       "        vertical-align: middle;\n",
       "    }\n",
       "\n",
       "    .dataframe tbody tr th {\n",
       "        vertical-align: top;\n",
       "    }\n",
       "\n",
       "    .dataframe thead th {\n",
       "        text-align: right;\n",
       "    }\n",
       "</style>\n",
       "<table border=\"1\" class=\"dataframe\">\n",
       "  <thead>\n",
       "    <tr style=\"text-align: right;\">\n",
       "      <th></th>\n",
       "      <th>Phillippines</th>\n",
       "      <th>Indonesia</th>\n",
       "      <th>Malta</th>\n",
       "      <th>India</th>\n",
       "    </tr>\n",
       "  </thead>\n",
       "  <tbody>\n",
       "    <tr>\n",
       "      <th>0</th>\n",
       "      <td>Error Free</td>\n",
       "      <td>Error Free</td>\n",
       "      <td>Defective</td>\n",
       "      <td>Error Free</td>\n",
       "    </tr>\n",
       "    <tr>\n",
       "      <th>1</th>\n",
       "      <td>Error Free</td>\n",
       "      <td>Error Free</td>\n",
       "      <td>Error Free</td>\n",
       "      <td>Defective</td>\n",
       "    </tr>\n",
       "    <tr>\n",
       "      <th>2</th>\n",
       "      <td>Error Free</td>\n",
       "      <td>Defective</td>\n",
       "      <td>Defective</td>\n",
       "      <td>Error Free</td>\n",
       "    </tr>\n",
       "  </tbody>\n",
       "</table>\n",
       "</div>"
      ],
      "text/plain": [
       "  Phillippines   Indonesia       Malta       India\n",
       "0   Error Free  Error Free   Defective  Error Free\n",
       "1   Error Free  Error Free  Error Free   Defective\n",
       "2   Error Free   Defective   Defective  Error Free"
      ]
     },
     "execution_count": 24,
     "metadata": {},
     "output_type": "execute_result"
    }
   ],
   "source": [
    "df=pd.read_csv('03_03_Costomer+OrderForm.csv')\n",
    "df.head(3)"
   ]
  },
  {
   "cell_type": "code",
   "execution_count": 25,
   "id": "6c3e26cd-b95d-45d8-bad0-5503a301f8f2",
   "metadata": {},
   "outputs": [
    {
     "data": {
      "text/plain": [
       "(300, 4)"
      ]
     },
     "execution_count": 25,
     "metadata": {},
     "output_type": "execute_result"
    }
   ],
   "source": [
    "df.shape"
   ]
  },
  {
   "cell_type": "markdown",
   "id": "7de585f9-a2a3-45ad-8f44-231a8ce67521",
   "metadata": {},
   "source": [
    "#### Applying descriptive statistics"
   ]
  },
  {
   "cell_type": "code",
   "execution_count": 26,
   "id": "417c0540-742e-4692-b4e6-7625da272299",
   "metadata": {},
   "outputs": [
    {
     "data": {
      "text/html": [
       "<div>\n",
       "<style scoped>\n",
       "    .dataframe tbody tr th:only-of-type {\n",
       "        vertical-align: middle;\n",
       "    }\n",
       "\n",
       "    .dataframe tbody tr th {\n",
       "        vertical-align: top;\n",
       "    }\n",
       "\n",
       "    .dataframe thead th {\n",
       "        text-align: right;\n",
       "    }\n",
       "</style>\n",
       "<table border=\"1\" class=\"dataframe\">\n",
       "  <thead>\n",
       "    <tr style=\"text-align: right;\">\n",
       "      <th></th>\n",
       "      <th>Phillippines</th>\n",
       "      <th>Indonesia</th>\n",
       "      <th>Malta</th>\n",
       "      <th>India</th>\n",
       "    </tr>\n",
       "  </thead>\n",
       "  <tbody>\n",
       "    <tr>\n",
       "      <th>count</th>\n",
       "      <td>300</td>\n",
       "      <td>300</td>\n",
       "      <td>300</td>\n",
       "      <td>300</td>\n",
       "    </tr>\n",
       "    <tr>\n",
       "      <th>unique</th>\n",
       "      <td>2</td>\n",
       "      <td>2</td>\n",
       "      <td>2</td>\n",
       "      <td>2</td>\n",
       "    </tr>\n",
       "    <tr>\n",
       "      <th>top</th>\n",
       "      <td>Error Free</td>\n",
       "      <td>Error Free</td>\n",
       "      <td>Error Free</td>\n",
       "      <td>Error Free</td>\n",
       "    </tr>\n",
       "    <tr>\n",
       "      <th>freq</th>\n",
       "      <td>271</td>\n",
       "      <td>267</td>\n",
       "      <td>269</td>\n",
       "      <td>280</td>\n",
       "    </tr>\n",
       "  </tbody>\n",
       "</table>\n",
       "</div>"
      ],
      "text/plain": [
       "       Phillippines   Indonesia       Malta       India\n",
       "count           300         300         300         300\n",
       "unique            2           2           2           2\n",
       "top      Error Free  Error Free  Error Free  Error Free\n",
       "freq            271         267         269         280"
      ]
     },
     "execution_count": 26,
     "metadata": {},
     "output_type": "execute_result"
    }
   ],
   "source": [
    "df.describe()"
   ]
  },
  {
   "cell_type": "markdown",
   "id": "b3bd2ec5-b4c8-4715-85ae-b58d087aac4e",
   "metadata": {},
   "source": [
    "#### Checking for Null Values"
   ]
  },
  {
   "cell_type": "code",
   "execution_count": 27,
   "id": "895aff74-60a1-4814-b1f2-6a9f0ed12ad2",
   "metadata": {},
   "outputs": [
    {
     "data": {
      "text/plain": [
       "Phillippines    0\n",
       "Indonesia       0\n",
       "Malta           0\n",
       "India           0\n",
       "dtype: int64"
      ]
     },
     "execution_count": 27,
     "metadata": {},
     "output_type": "execute_result"
    }
   ],
   "source": [
    "df.isnull().sum()"
   ]
  },
  {
   "cell_type": "code",
   "execution_count": 28,
   "id": "86d4ea2e-1e83-49b4-ac75-3ce829edbfe6",
   "metadata": {},
   "outputs": [
    {
     "data": {
      "text/html": [
       "<div>\n",
       "<style scoped>\n",
       "    .dataframe tbody tr th:only-of-type {\n",
       "        vertical-align: middle;\n",
       "    }\n",
       "\n",
       "    .dataframe tbody tr th {\n",
       "        vertical-align: top;\n",
       "    }\n",
       "\n",
       "    .dataframe thead th {\n",
       "        text-align: right;\n",
       "    }\n",
       "</style>\n",
       "<table border=\"1\" class=\"dataframe\">\n",
       "  <thead>\n",
       "    <tr style=\"text-align: right;\">\n",
       "      <th></th>\n",
       "      <th>Phillippines</th>\n",
       "      <th>Indonesia</th>\n",
       "      <th>Malta</th>\n",
       "      <th>India</th>\n",
       "    </tr>\n",
       "  </thead>\n",
       "  <tbody>\n",
       "  </tbody>\n",
       "</table>\n",
       "</div>"
      ],
      "text/plain": [
       "Empty DataFrame\n",
       "Columns: [Phillippines, Indonesia, Malta, India]\n",
       "Index: []"
      ]
     },
     "execution_count": 28,
     "metadata": {},
     "output_type": "execute_result"
    }
   ],
   "source": [
    "df[df.isnull().any(axis=1)]"
   ]
  },
  {
   "cell_type": "markdown",
   "id": "c63f67d6-a94a-4a19-90e8-c8f0aa34c79e",
   "metadata": {},
   "source": [
    "#### Checking the data type"
   ]
  },
  {
   "cell_type": "code",
   "execution_count": 29,
   "id": "e74d34c0-fe18-4eec-8b3d-7379762268f8",
   "metadata": {},
   "outputs": [
    {
     "name": "stdout",
     "output_type": "stream",
     "text": [
      "<class 'pandas.core.frame.DataFrame'>\n",
      "RangeIndex: 300 entries, 0 to 299\n",
      "Data columns (total 4 columns):\n",
      " #   Column        Non-Null Count  Dtype \n",
      "---  ------        --------------  ----- \n",
      " 0   Phillippines  300 non-null    object\n",
      " 1   Indonesia     300 non-null    object\n",
      " 2   Malta         300 non-null    object\n",
      " 3   India         300 non-null    object\n",
      "dtypes: object(4)\n",
      "memory usage: 9.5+ KB\n"
     ]
    }
   ],
   "source": [
    "df.info()"
   ]
  },
  {
   "cell_type": "markdown",
   "id": "a8ca3c23-6346-44db-8c6c-eaca3f52d36a",
   "metadata": {},
   "source": [
    "#### Checking value counts in data"
   ]
  },
  {
   "cell_type": "code",
   "execution_count": 30,
   "id": "0936cac8-c36d-4d68-8407-dc3a21d023a3",
   "metadata": {},
   "outputs": [
    {
     "data": {
      "text/plain": [
       "India\n",
       "Error Free    280\n",
       "Defective      20\n",
       "Name: count, dtype: int64"
      ]
     },
     "execution_count": 30,
     "metadata": {},
     "output_type": "execute_result"
    }
   ],
   "source": [
    "df['India'].value_counts()"
   ]
  },
  {
   "cell_type": "code",
   "execution_count": 31,
   "id": "977824aa-1723-480e-a9e1-6466e60d3976",
   "metadata": {},
   "outputs": [
    {
     "data": {
      "text/html": [
       "<div>\n",
       "<style scoped>\n",
       "    .dataframe tbody tr th:only-of-type {\n",
       "        vertical-align: middle;\n",
       "    }\n",
       "\n",
       "    .dataframe tbody tr th {\n",
       "        vertical-align: top;\n",
       "    }\n",
       "\n",
       "    .dataframe thead th {\n",
       "        text-align: right;\n",
       "    }\n",
       "</style>\n",
       "<table border=\"1\" class=\"dataframe\">\n",
       "  <thead>\n",
       "    <tr style=\"text-align: right;\">\n",
       "      <th></th>\n",
       "      <th>Phillippines</th>\n",
       "      <th>Indonesia</th>\n",
       "      <th>Malta</th>\n",
       "      <th>India</th>\n",
       "    </tr>\n",
       "  </thead>\n",
       "  <tbody>\n",
       "    <tr>\n",
       "      <th>Error Free</th>\n",
       "      <td>271</td>\n",
       "      <td>267</td>\n",
       "      <td>269</td>\n",
       "      <td>280</td>\n",
       "    </tr>\n",
       "    <tr>\n",
       "      <th>Defective</th>\n",
       "      <td>29</td>\n",
       "      <td>33</td>\n",
       "      <td>31</td>\n",
       "      <td>20</td>\n",
       "    </tr>\n",
       "  </tbody>\n",
       "</table>\n",
       "</div>"
      ],
      "text/plain": [
       "            Phillippines  Indonesia  Malta  India\n",
       "Error Free           271        267    269    280\n",
       "Defective             29         33     31     20"
      ]
     },
     "execution_count": 31,
     "metadata": {},
     "output_type": "execute_result"
    }
   ],
   "source": [
    "vals = dict()\n",
    "\n",
    "for x in df.columns.values:\n",
    "    vals[x] = df[x].value_counts().values\n",
    "\n",
    "df_new = pd.DataFrame(data=vals, index=['Error Free', 'Defective'])\n",
    "df_new"
   ]
  },
  {
   "cell_type": "markdown",
   "id": "f3a646ec-d824-4f3b-ab3a-f23970d97a04",
   "metadata": {},
   "source": [
    "#### Creating Contingency table"
   ]
  },
  {
   "cell_type": "code",
   "execution_count": 32,
   "id": "2a239c9d-7eeb-429b-9acd-93afdf6656d8",
   "metadata": {},
   "outputs": [],
   "source": [
    "obs=np.array([[271,267,269,280],[29,33,31,20]])"
   ]
  },
  {
   "cell_type": "markdown",
   "id": "94949696-2bec-4f33-b58d-6ba3547cfb42",
   "metadata": {},
   "source": [
    "#### Calculating Expected Values for Observed data"
   ]
  },
  {
   "cell_type": "code",
   "execution_count": 33,
   "id": "b0cbcc21-5b2a-4701-ac6a-a8d8f786caee",
   "metadata": {},
   "outputs": [
    {
     "data": {
      "text/plain": [
       "(3.858960685820355, 0.2771020991233135)"
      ]
     },
     "execution_count": 33,
     "metadata": {},
     "output_type": "execute_result"
    }
   ],
   "source": [
    "chi2_statistic, p_value, df, expected = stats.chi2_contingency(obs) \n",
    "chi2_statistic, p_value"
   ]
  },
  {
   "cell_type": "markdown",
   "id": "3ee0273a-af9f-4d3a-8799-e1c37170bc56",
   "metadata": {},
   "source": [
    "#### Two methods to decide where we should accept or reject the null hypothesis."
   ]
  },
  {
   "cell_type": "markdown",
   "id": "248c7547-034c-46ff-86e9-c3c43c631f94",
   "metadata": {},
   "source": [
    "#### Method A: Using Critical values"
   ]
  },
  {
   "cell_type": "code",
   "execution_count": 34,
   "id": "24da60f9-5297-4ac5-a28f-1be2a2c7b3ff",
   "metadata": {},
   "outputs": [
    {
     "data": {
      "text/plain": [
       "7.814727903251179"
      ]
     },
     "execution_count": 34,
     "metadata": {},
     "output_type": "execute_result"
    }
   ],
   "source": [
    "critical_value = stats.chi2.ppf(0.95,3)\n",
    "critical_value"
   ]
  },
  {
   "cell_type": "code",
   "execution_count": 35,
   "id": "e4425052-22cc-4025-8276-cecaa22f80de",
   "metadata": {},
   "outputs": [
    {
     "name": "stdout",
     "output_type": "stream",
     "text": [
      "Independent (fail to reject H0), variables are not related\n"
     ]
    }
   ],
   "source": [
    "if chi2_statistic >= critical_value:\n",
    "\tprint('Dependent (reject H0),variables are related')\n",
    "else:\n",
    "\tprint('Independent (fail to reject H0), variables are not related')"
   ]
  },
  {
   "cell_type": "markdown",
   "id": "4b2cef26-cccd-4fd9-b222-ae5c641ecb32",
   "metadata": {},
   "source": [
    "#### Method B: Using P values"
   ]
  },
  {
   "cell_type": "code",
   "execution_count": 36,
   "id": "752a62c6-df04-4da4-aea5-6a488fcb2200",
   "metadata": {},
   "outputs": [
    {
     "data": {
      "text/plain": [
       "(0.2771020991233135, 0.2771020991233135)"
      ]
     },
     "execution_count": 36,
     "metadata": {},
     "output_type": "execute_result"
    }
   ],
   "source": [
    "p_value, 1-stats.chi2.cdf(chi2_statistic,3)"
   ]
  },
  {
   "cell_type": "code",
   "execution_count": 37,
   "id": "f9ec36e1-cbaf-400a-ad6e-bc5d39caa736",
   "metadata": {},
   "outputs": [
    {
     "name": "stdout",
     "output_type": "stream",
     "text": [
      "Significance=0.050, p=0.277\n",
      "\n",
      "Independent (fail to reject H0)\n"
     ]
    }
   ],
   "source": [
    "alpha = 0.05\n",
    "print('Significance=%.3f, p=%.3f\\n' % (alpha, p_value))\n",
    "if p_value <= alpha:\n",
    "\tprint('Dependent (reject H0)')\n",
    "else:\n",
    "\tprint('Independent (fail to reject H0)')"
   ]
  },
  {
   "cell_type": "markdown",
   "id": "7004fcdd-8662-468e-90bb-a2c47698f423",
   "metadata": {},
   "source": [
    "### Since p_value > alpha, We fail to reject Null Hypothesis because of lack of evidence. Thus, customer order forms defective % does not varies by centre."
   ]
  }
 ],
 "metadata": {
  "kernelspec": {
   "display_name": "Python 3 (ipykernel)",
   "language": "python",
   "name": "python3"
  },
  "language_info": {
   "codemirror_mode": {
    "name": "ipython",
    "version": 3
   },
   "file_extension": ".py",
   "mimetype": "text/x-python",
   "name": "python",
   "nbconvert_exporter": "python",
   "pygments_lexer": "ipython3",
   "version": "3.11.0"
  }
 },
 "nbformat": 4,
 "nbformat_minor": 5
}
