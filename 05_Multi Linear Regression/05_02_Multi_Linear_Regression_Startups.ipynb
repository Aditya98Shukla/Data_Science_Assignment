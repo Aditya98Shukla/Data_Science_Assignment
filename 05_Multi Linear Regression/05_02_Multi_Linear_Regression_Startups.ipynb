{
 "cells": [
  {
   "cell_type": "code",
   "execution_count": 1,
   "id": "e4c30971-11a7-4119-8f85-2fd88f8ae12b",
   "metadata": {},
   "outputs": [],
   "source": [
    "import pandas as pd\n",
    "import numpy as np\n",
    "import matplotlib.pyplot as plt\n",
    "import seaborn as sns\n",
    "import statsmodels.formula.api as smf\n",
    "import statsmodels.api as sm\n",
    "from statsmodels.graphics.regressionplots import influence_plot"
   ]
  },
  {
   "cell_type": "markdown",
   "id": "dde73373-5ea0-4dd2-97b9-77ca526bc4da",
   "metadata": {},
   "source": [
    "## Problem Statement"
   ]
  },
  {
   "cell_type": "markdown",
   "id": "b1d86dfb-906f-45ae-a726-3f303e641cca",
   "metadata": {},
   "source": [
    "### Prepare a prediction model for profit of 50_startups data."
   ]
  },
  {
   "cell_type": "markdown",
   "id": "56e93cd9-bb06-4fe2-993a-45fa21fb3d28",
   "metadata": {},
   "source": [
    "<ul>\n",
    "<li>Do transformations for getting better predictions of profit and make a table containing R^2 value for each prepared model.</li>\n",
    "<ul>"
   ]
  },
  {
   "cell_type": "markdown",
   "id": "0883ef03-4436-4cad-8af6-7f7fa6ac508d",
   "metadata": {},
   "source": [
    "### Features"
   ]
  },
  {
   "cell_type": "markdown",
   "id": "ac318015-747a-48aa-b187-4cc51ea3ae8d",
   "metadata": {},
   "source": [
    "<ul>\n",
    "<li>R&D Spend -- Research and devolop spend in the past few years</li>\n",
    "<li>Administration -- spend on administration in the past few years</li>\n",
    "<li>Marketing Spend -- spend on Marketing in the past few years</li>\n",
    "<li>State -- states from which data is collected</li>\n",
    "<li>Profit -- profit of each state in the past few years</li>\n",
    "</ul>"
   ]
  },
  {
   "cell_type": "markdown",
   "id": "02a34885-359d-4366-8796-358712b521d5",
   "metadata": {},
   "source": [
    "## Importing dataset"
   ]
  },
  {
   "cell_type": "code",
   "execution_count": 2,
   "id": "a53039a7-264b-4377-b011-61a0fcf2a4f7",
   "metadata": {},
   "outputs": [
    {
     "data": {
      "text/html": [
       "<div>\n",
       "<style scoped>\n",
       "    .dataframe tbody tr th:only-of-type {\n",
       "        vertical-align: middle;\n",
       "    }\n",
       "\n",
       "    .dataframe tbody tr th {\n",
       "        vertical-align: top;\n",
       "    }\n",
       "\n",
       "    .dataframe thead th {\n",
       "        text-align: right;\n",
       "    }\n",
       "</style>\n",
       "<table border=\"1\" class=\"dataframe\">\n",
       "  <thead>\n",
       "    <tr style=\"text-align: right;\">\n",
       "      <th></th>\n",
       "      <th>R&amp;D Spend</th>\n",
       "      <th>Administration</th>\n",
       "      <th>Marketing Spend</th>\n",
       "      <th>State</th>\n",
       "      <th>Profit</th>\n",
       "    </tr>\n",
       "  </thead>\n",
       "  <tbody>\n",
       "    <tr>\n",
       "      <th>0</th>\n",
       "      <td>165349.20</td>\n",
       "      <td>136897.80</td>\n",
       "      <td>471784.10</td>\n",
       "      <td>New York</td>\n",
       "      <td>192261.83</td>\n",
       "    </tr>\n",
       "    <tr>\n",
       "      <th>1</th>\n",
       "      <td>162597.70</td>\n",
       "      <td>151377.59</td>\n",
       "      <td>443898.53</td>\n",
       "      <td>California</td>\n",
       "      <td>191792.06</td>\n",
       "    </tr>\n",
       "    <tr>\n",
       "      <th>2</th>\n",
       "      <td>153441.51</td>\n",
       "      <td>101145.55</td>\n",
       "      <td>407934.54</td>\n",
       "      <td>Florida</td>\n",
       "      <td>191050.39</td>\n",
       "    </tr>\n",
       "    <tr>\n",
       "      <th>3</th>\n",
       "      <td>144372.41</td>\n",
       "      <td>118671.85</td>\n",
       "      <td>383199.62</td>\n",
       "      <td>New York</td>\n",
       "      <td>182901.99</td>\n",
       "    </tr>\n",
       "    <tr>\n",
       "      <th>4</th>\n",
       "      <td>142107.34</td>\n",
       "      <td>91391.77</td>\n",
       "      <td>366168.42</td>\n",
       "      <td>Florida</td>\n",
       "      <td>166187.94</td>\n",
       "    </tr>\n",
       "  </tbody>\n",
       "</table>\n",
       "</div>"
      ],
      "text/plain": [
       "   R&D Spend  Administration  Marketing Spend       State     Profit\n",
       "0  165349.20       136897.80        471784.10    New York  192261.83\n",
       "1  162597.70       151377.59        443898.53  California  191792.06\n",
       "2  153441.51       101145.55        407934.54     Florida  191050.39\n",
       "3  144372.41       118671.85        383199.62    New York  182901.99\n",
       "4  142107.34        91391.77        366168.42     Florida  166187.94"
      ]
     },
     "execution_count": 2,
     "metadata": {},
     "output_type": "execute_result"
    }
   ],
   "source": [
    "df = pd.read_csv(\"05_02_50_Startups.csv\")\n",
    "df.head()"
   ]
  },
  {
   "cell_type": "code",
   "execution_count": 3,
   "id": "cd8f32a4-b874-4856-8a35-621ddb76f5a4",
   "metadata": {},
   "outputs": [
    {
     "name": "stdout",
     "output_type": "stream",
     "text": [
      "Number of Rows 50 Columns 5\n"
     ]
    }
   ],
   "source": [
    "print('Number of Rows {} Columns {}'.format(df.shape[0], df.shape[1]))"
   ]
  },
  {
   "cell_type": "markdown",
   "id": "f1867da4-4e56-4885-855f-744a7d8e7fe7",
   "metadata": {},
   "source": [
    "## Descriptive Analysis"
   ]
  },
  {
   "cell_type": "code",
   "execution_count": 4,
   "id": "5a3a810b-a67e-4af4-9304-448a966a6800",
   "metadata": {},
   "outputs": [
    {
     "data": {
      "text/html": [
       "<div>\n",
       "<style scoped>\n",
       "    .dataframe tbody tr th:only-of-type {\n",
       "        vertical-align: middle;\n",
       "    }\n",
       "\n",
       "    .dataframe tbody tr th {\n",
       "        vertical-align: top;\n",
       "    }\n",
       "\n",
       "    .dataframe thead th {\n",
       "        text-align: right;\n",
       "    }\n",
       "</style>\n",
       "<table border=\"1\" class=\"dataframe\">\n",
       "  <thead>\n",
       "    <tr style=\"text-align: right;\">\n",
       "      <th></th>\n",
       "      <th>R&amp;D Spend</th>\n",
       "      <th>Administration</th>\n",
       "      <th>Marketing Spend</th>\n",
       "      <th>Profit</th>\n",
       "    </tr>\n",
       "  </thead>\n",
       "  <tbody>\n",
       "    <tr>\n",
       "      <th>count</th>\n",
       "      <td>50.000000</td>\n",
       "      <td>50.000000</td>\n",
       "      <td>50.000000</td>\n",
       "      <td>50.000000</td>\n",
       "    </tr>\n",
       "    <tr>\n",
       "      <th>mean</th>\n",
       "      <td>73721.615600</td>\n",
       "      <td>121344.639600</td>\n",
       "      <td>211025.097800</td>\n",
       "      <td>112012.639200</td>\n",
       "    </tr>\n",
       "    <tr>\n",
       "      <th>std</th>\n",
       "      <td>45902.256482</td>\n",
       "      <td>28017.802755</td>\n",
       "      <td>122290.310726</td>\n",
       "      <td>40306.180338</td>\n",
       "    </tr>\n",
       "    <tr>\n",
       "      <th>min</th>\n",
       "      <td>0.000000</td>\n",
       "      <td>51283.140000</td>\n",
       "      <td>0.000000</td>\n",
       "      <td>14681.400000</td>\n",
       "    </tr>\n",
       "    <tr>\n",
       "      <th>25%</th>\n",
       "      <td>39936.370000</td>\n",
       "      <td>103730.875000</td>\n",
       "      <td>129300.132500</td>\n",
       "      <td>90138.902500</td>\n",
       "    </tr>\n",
       "    <tr>\n",
       "      <th>50%</th>\n",
       "      <td>73051.080000</td>\n",
       "      <td>122699.795000</td>\n",
       "      <td>212716.240000</td>\n",
       "      <td>107978.190000</td>\n",
       "    </tr>\n",
       "    <tr>\n",
       "      <th>75%</th>\n",
       "      <td>101602.800000</td>\n",
       "      <td>144842.180000</td>\n",
       "      <td>299469.085000</td>\n",
       "      <td>139765.977500</td>\n",
       "    </tr>\n",
       "    <tr>\n",
       "      <th>max</th>\n",
       "      <td>165349.200000</td>\n",
       "      <td>182645.560000</td>\n",
       "      <td>471784.100000</td>\n",
       "      <td>192261.830000</td>\n",
       "    </tr>\n",
       "  </tbody>\n",
       "</table>\n",
       "</div>"
      ],
      "text/plain": [
       "           R&D Spend  Administration  Marketing Spend         Profit\n",
       "count      50.000000       50.000000        50.000000      50.000000\n",
       "mean    73721.615600   121344.639600    211025.097800  112012.639200\n",
       "std     45902.256482    28017.802755    122290.310726   40306.180338\n",
       "min         0.000000    51283.140000         0.000000   14681.400000\n",
       "25%     39936.370000   103730.875000    129300.132500   90138.902500\n",
       "50%     73051.080000   122699.795000    212716.240000  107978.190000\n",
       "75%    101602.800000   144842.180000    299469.085000  139765.977500\n",
       "max    165349.200000   182645.560000    471784.100000  192261.830000"
      ]
     },
     "execution_count": 4,
     "metadata": {},
     "output_type": "execute_result"
    }
   ],
   "source": [
    "df.describe()"
   ]
  },
  {
   "cell_type": "markdown",
   "id": "15bff49a-a32c-4b42-bd2d-a1c877d962b6",
   "metadata": {},
   "source": [
    "### Observation: There are no null Values in the dataset by reading counts from above."
   ]
  },
  {
   "cell_type": "markdown",
   "id": "b6e983d4-8895-4022-a89a-1920487889e3",
   "metadata": {},
   "source": [
    "## Checking for Data types"
   ]
  },
  {
   "cell_type": "code",
   "execution_count": 5,
   "id": "45f64b5c-2780-40d4-9af0-228081265b09",
   "metadata": {},
   "outputs": [
    {
     "name": "stdout",
     "output_type": "stream",
     "text": [
      "<class 'pandas.core.frame.DataFrame'>\n",
      "RangeIndex: 50 entries, 0 to 49\n",
      "Data columns (total 5 columns):\n",
      " #   Column           Non-Null Count  Dtype  \n",
      "---  ------           --------------  -----  \n",
      " 0   R&D Spend        50 non-null     float64\n",
      " 1   Administration   50 non-null     float64\n",
      " 2   Marketing Spend  50 non-null     float64\n",
      " 3   State            50 non-null     object \n",
      " 4   Profit           50 non-null     float64\n",
      "dtypes: float64(4), object(1)\n",
      "memory usage: 2.1+ KB\n"
     ]
    }
   ],
   "source": [
    "df.info()"
   ]
  },
  {
   "cell_type": "markdown",
   "id": "f7011470-d02e-45c7-9621-66cd70ff139d",
   "metadata": {},
   "source": [
    "#### Observation: all the data types are correct .\n",
    "#### Note: State is a Categorical feature we need to do some encoding or convert it into numerical values by putting dummy values"
   ]
  },
  {
   "cell_type": "markdown",
   "id": "d2b8bfe0-eac2-427d-937d-0ac15f451855",
   "metadata": {},
   "source": [
    "## Renaming the columns name to make it short"
   ]
  },
  {
   "cell_type": "code",
   "execution_count": 6,
   "id": "b0a388b8-ee2b-4b52-b1db-365c1165668a",
   "metadata": {},
   "outputs": [
    {
     "data": {
      "text/html": [
       "<div>\n",
       "<style scoped>\n",
       "    .dataframe tbody tr th:only-of-type {\n",
       "        vertical-align: middle;\n",
       "    }\n",
       "\n",
       "    .dataframe tbody tr th {\n",
       "        vertical-align: top;\n",
       "    }\n",
       "\n",
       "    .dataframe thead th {\n",
       "        text-align: right;\n",
       "    }\n",
       "</style>\n",
       "<table border=\"1\" class=\"dataframe\">\n",
       "  <thead>\n",
       "    <tr style=\"text-align: right;\">\n",
       "      <th></th>\n",
       "      <th>RDS</th>\n",
       "      <th>ADMS</th>\n",
       "      <th>MKTS</th>\n",
       "      <th>State</th>\n",
       "      <th>Profit</th>\n",
       "    </tr>\n",
       "  </thead>\n",
       "  <tbody>\n",
       "    <tr>\n",
       "      <th>0</th>\n",
       "      <td>165349.20</td>\n",
       "      <td>136897.80</td>\n",
       "      <td>471784.10</td>\n",
       "      <td>New York</td>\n",
       "      <td>192261.83</td>\n",
       "    </tr>\n",
       "    <tr>\n",
       "      <th>1</th>\n",
       "      <td>162597.70</td>\n",
       "      <td>151377.59</td>\n",
       "      <td>443898.53</td>\n",
       "      <td>California</td>\n",
       "      <td>191792.06</td>\n",
       "    </tr>\n",
       "    <tr>\n",
       "      <th>2</th>\n",
       "      <td>153441.51</td>\n",
       "      <td>101145.55</td>\n",
       "      <td>407934.54</td>\n",
       "      <td>Florida</td>\n",
       "      <td>191050.39</td>\n",
       "    </tr>\n",
       "    <tr>\n",
       "      <th>3</th>\n",
       "      <td>144372.41</td>\n",
       "      <td>118671.85</td>\n",
       "      <td>383199.62</td>\n",
       "      <td>New York</td>\n",
       "      <td>182901.99</td>\n",
       "    </tr>\n",
       "    <tr>\n",
       "      <th>4</th>\n",
       "      <td>142107.34</td>\n",
       "      <td>91391.77</td>\n",
       "      <td>366168.42</td>\n",
       "      <td>Florida</td>\n",
       "      <td>166187.94</td>\n",
       "    </tr>\n",
       "  </tbody>\n",
       "</table>\n",
       "</div>"
      ],
      "text/plain": [
       "         RDS       ADMS       MKTS       State     Profit\n",
       "0  165349.20  136897.80  471784.10    New York  192261.83\n",
       "1  162597.70  151377.59  443898.53  California  191792.06\n",
       "2  153441.51  101145.55  407934.54     Florida  191050.39\n",
       "3  144372.41  118671.85  383199.62    New York  182901.99\n",
       "4  142107.34   91391.77  366168.42     Florida  166187.94"
      ]
     },
     "execution_count": 6,
     "metadata": {},
     "output_type": "execute_result"
    }
   ],
   "source": [
    "df1=df.rename({'R&D Spend':'RDS','Administration':'ADMS','Marketing Spend':'MKTS'},axis=1)\n",
    "df1.head()"
   ]
  },
  {
   "cell_type": "markdown",
   "id": "97730a27-1dd1-4170-9b9e-ad104cbbf3f8",
   "metadata": {},
   "source": [
    "## Checking for missing values"
   ]
  },
  {
   "cell_type": "code",
   "execution_count": 7,
   "id": "0120d542-98a6-4ca8-8f39-184248f428a9",
   "metadata": {},
   "outputs": [
    {
     "data": {
      "text/plain": [
       "RDS       0\n",
       "ADMS      0\n",
       "MKTS      0\n",
       "State     0\n",
       "Profit    0\n",
       "dtype: int64"
      ]
     },
     "execution_count": 7,
     "metadata": {},
     "output_type": "execute_result"
    }
   ],
   "source": [
    "df1.isnull().sum()"
   ]
  },
  {
   "cell_type": "code",
   "execution_count": 8,
   "id": "1098c0bf-9ec7-4e56-ad6c-3a4fc93824e3",
   "metadata": {},
   "outputs": [
    {
     "data": {
      "text/html": [
       "<div>\n",
       "<style scoped>\n",
       "    .dataframe tbody tr th:only-of-type {\n",
       "        vertical-align: middle;\n",
       "    }\n",
       "\n",
       "    .dataframe tbody tr th {\n",
       "        vertical-align: top;\n",
       "    }\n",
       "\n",
       "    .dataframe thead th {\n",
       "        text-align: right;\n",
       "    }\n",
       "</style>\n",
       "<table border=\"1\" class=\"dataframe\">\n",
       "  <thead>\n",
       "    <tr style=\"text-align: right;\">\n",
       "      <th></th>\n",
       "      <th>RDS</th>\n",
       "      <th>ADMS</th>\n",
       "      <th>MKTS</th>\n",
       "      <th>State</th>\n",
       "      <th>Profit</th>\n",
       "    </tr>\n",
       "  </thead>\n",
       "  <tbody>\n",
       "    <tr>\n",
       "      <th>19</th>\n",
       "      <td>86419.70</td>\n",
       "      <td>153514.11</td>\n",
       "      <td>0.00</td>\n",
       "      <td>New York</td>\n",
       "      <td>122776.86</td>\n",
       "    </tr>\n",
       "    <tr>\n",
       "      <th>47</th>\n",
       "      <td>0.00</td>\n",
       "      <td>135426.92</td>\n",
       "      <td>0.00</td>\n",
       "      <td>California</td>\n",
       "      <td>42559.73</td>\n",
       "    </tr>\n",
       "    <tr>\n",
       "      <th>47</th>\n",
       "      <td>0.00</td>\n",
       "      <td>135426.92</td>\n",
       "      <td>0.00</td>\n",
       "      <td>California</td>\n",
       "      <td>42559.73</td>\n",
       "    </tr>\n",
       "    <tr>\n",
       "      <th>48</th>\n",
       "      <td>542.05</td>\n",
       "      <td>51743.15</td>\n",
       "      <td>0.00</td>\n",
       "      <td>New York</td>\n",
       "      <td>35673.41</td>\n",
       "    </tr>\n",
       "    <tr>\n",
       "      <th>49</th>\n",
       "      <td>0.00</td>\n",
       "      <td>116983.80</td>\n",
       "      <td>45173.06</td>\n",
       "      <td>California</td>\n",
       "      <td>14681.40</td>\n",
       "    </tr>\n",
       "  </tbody>\n",
       "</table>\n",
       "</div>"
      ],
      "text/plain": [
       "         RDS       ADMS      MKTS       State     Profit\n",
       "19  86419.70  153514.11      0.00    New York  122776.86\n",
       "47      0.00  135426.92      0.00  California   42559.73\n",
       "47      0.00  135426.92      0.00  California   42559.73\n",
       "48    542.05   51743.15      0.00    New York   35673.41\n",
       "49      0.00  116983.80  45173.06  California   14681.40"
      ]
     },
     "execution_count": 8,
     "metadata": {},
     "output_type": "execute_result"
    }
   ],
   "source": [
    "df1[df1.values==0.0]"
   ]
  },
  {
   "cell_type": "markdown",
   "id": "2f7c94ac-b35c-486c-9454-9541a6abc465",
   "metadata": {},
   "source": [
    "#### Observation: Notice there are some '0' values in the data in some features,\n",
    "#### <ul><li>here the context for Zero should be absolute Zero, no money has spend regards to that Department</li></ul>"
   ]
  },
  {
   "cell_type": "code",
   "execution_count": 9,
   "id": "2f87023f-807f-45ff-9fbe-333ed4d327aa",
   "metadata": {},
   "outputs": [
    {
     "name": "stdout",
     "output_type": "stream",
     "text": [
      "Zero Values in R&D Spend is 2 \n",
      "Zero Values in Administration is 0 \n",
      "Zero Values in Marketing is 3 \n",
      "Zero Values in Profit is 0\n"
     ]
    }
   ],
   "source": [
    "print('Zero Values in R&D Spend is',(df1['RDS'] == 0).sum(),'\\n'\n",
    "      'Zero Values in Administration is',(df1['ADMS'] == 0).sum(),'\\n'\n",
    "      'Zero Values in Marketing is',(df1['MKTS'] == 0).sum(),'\\n'\n",
    "      'Zero Values in Profit is',(df1['Profit'] == 0).sum())"
   ]
  },
  {
   "cell_type": "markdown",
   "id": "efabac9d-6e1e-4b9e-ae4a-297e5c598a72",
   "metadata": {},
   "source": [
    "## Visualize Missing values"
   ]
  },
  {
   "cell_type": "code",
   "execution_count": 10,
   "id": "fecf74af-8624-4356-86b9-25e0ef48ed85",
   "metadata": {},
   "outputs": [
    {
     "data": {
      "image/png": "[encoded data removed]",
      "text/plain": [
       "<Figure size 600x300 with 2 Axes>"
      ]
     },
     "metadata": {},
     "output_type": "display_data"
    }
   ],
   "source": [
    "plt.figure(figsize=(6,3))\n",
    "sns.heatmap(df1.isnull(),cmap='viridis')\n",
    "plt.show()"
   ]
  },
  {
   "cell_type": "markdown",
   "id": "7cfc5e45-a39c-468c-95b4-0aebb1056280",
   "metadata": {},
   "source": [
    "#### Observation: No missing Values are present in the data set"
   ]
  },
  {
   "cell_type": "markdown",
   "id": "266e9c93-586f-4289-bed1-030381c10fc1",
   "metadata": {},
   "source": [
    "## Checking for Duplicated Values"
   ]
  },
  {
   "cell_type": "code",
   "execution_count": 11,
   "id": "a7b380b4-095a-4d66-85fc-e7f2769397bb",
   "metadata": {},
   "outputs": [
    {
     "data": {
      "text/plain": [
       "0"
      ]
     },
     "execution_count": 11,
     "metadata": {},
     "output_type": "execute_result"
    }
   ],
   "source": [
    "df1.duplicated().sum()"
   ]
  },
  {
   "cell_type": "code",
   "execution_count": 12,
   "id": "2feba588-52e2-426f-b1cd-c3b9cc885e97",
   "metadata": {},
   "outputs": [
    {
     "data": {
      "text/html": [
       "<div>\n",
       "<style scoped>\n",
       "    .dataframe tbody tr th:only-of-type {\n",
       "        vertical-align: middle;\n",
       "    }\n",
       "\n",
       "    .dataframe tbody tr th {\n",
       "        vertical-align: top;\n",
       "    }\n",
       "\n",
       "    .dataframe thead th {\n",
       "        text-align: right;\n",
       "    }\n",
       "</style>\n",
       "<table border=\"1\" class=\"dataframe\">\n",
       "  <thead>\n",
       "    <tr style=\"text-align: right;\">\n",
       "      <th></th>\n",
       "      <th>RDS</th>\n",
       "      <th>ADMS</th>\n",
       "      <th>MKTS</th>\n",
       "      <th>State</th>\n",
       "      <th>Profit</th>\n",
       "    </tr>\n",
       "  </thead>\n",
       "  <tbody>\n",
       "  </tbody>\n",
       "</table>\n",
       "</div>"
      ],
      "text/plain": [
       "Empty DataFrame\n",
       "Columns: [RDS, ADMS, MKTS, State, Profit]\n",
       "Index: []"
      ]
     },
     "execution_count": 12,
     "metadata": {},
     "output_type": "execute_result"
    }
   ],
   "source": [
    "df1[df1.duplicated()]"
   ]
  },
  {
   "cell_type": "code",
   "execution_count": 13,
   "id": "f38beaac-5408-48df-b7c9-a2d027742af1",
   "metadata": {},
   "outputs": [
    {
     "data": {
      "text/plain": [
       "(0, 5)"
      ]
     },
     "execution_count": 13,
     "metadata": {},
     "output_type": "execute_result"
    }
   ],
   "source": [
    "df1[df1.duplicated()].shape"
   ]
  },
  {
   "cell_type": "markdown",
   "id": "1ec2b7a0-4c18-4329-b4d6-cd5ecf70ef32",
   "metadata": {},
   "source": [
    "#### Observation: There are no duplicated values in the dataset"
   ]
  },
  {
   "cell_type": "markdown",
   "id": "fce96dff-172e-494e-9428-441b207476e9",
   "metadata": {},
   "source": [
    "## Visualizing Continuous Datatype for Outlier Detection"
   ]
  },
  {
   "cell_type": "code",
   "execution_count": 14,
   "id": "496bd61a-d152-4a72-b91f-0549dac10beb",
   "metadata": {},
   "outputs": [
    {
     "name": "stdout",
     "output_type": "stream",
     "text": [
      "Continuous Feature Count 4\n"
     ]
    }
   ],
   "source": [
    "continuous_feature=[feature for feature in df1.columns if df1[feature].dtype!='O']\n",
    "print('Continuous Feature Count {}'.format(len(continuous_feature)))"
   ]
  },
  {
   "cell_type": "code",
   "execution_count": 15,
   "id": "d1c904f5-b2ee-4017-a3e8-a83c61d54132",
   "metadata": {},
   "outputs": [
    {
     "data": {
      "image/png": "[encoded data removed]",
      "text/plain": [
       "<Figure size 2000x500 with 4 Axes>"
      ]
     },
     "metadata": {},
     "output_type": "display_data"
    }
   ],
   "source": [
    "import matplotlib.pyplot as plt\n",
    "\n",
    "fig, axes = plt.subplots(1, 4, figsize=(20, 5))  # Create a 1x4 grid for subplots\n",
    "\n",
    "for i, feature in enumerate(continuous_feature):\n",
    "    data=df1.copy()  \n",
    "    data.boxplot(column=feature, ax=axes[i])\n",
    "    axes[i].set_title(feature)\n",
    "\n",
    "plt.tight_layout()  # Adjust layout to prevent overlap\n",
    "plt.show()"
   ]
  },
  {
   "cell_type": "markdown",
   "id": "e78bbc27-5983-4934-a4ef-22346e0b7ab7",
   "metadata": {},
   "source": [
    "#### Observation: There are Outlier in the Profit that is our Dependent Variable but there are no Outlier in our Dependent Features\n",
    "<ul><li>Note: we need to handle Outlier the best way sometime is to remove outliers from the dataset to stop them skewing or screwing our analysis, but that will lead to loss of information as we have a smaller dataset</li></ul>\n",
    "\n",
    "## Let's try to find the Outliers in the Profit Dependent Variable\n",
    "<ul><li>Note: Transforming variables can also eliminate outliers. The Transformed Variables reduces the variation caused by the extreme values</li></ul>"
   ]
  },
  {
   "cell_type": "code",
   "execution_count": 16,
   "id": "789d547f-4376-4540-880f-d57567e309e0",
   "metadata": {},
   "outputs": [
    {
     "data": {
      "text/plain": [
       "50%            107978.1900\n",
       "25%             90138.9025\n",
       "75%            139765.9775\n",
       "IQR             49627.0750\n",
       "Upper_Bound    214206.5900\n",
       "Lower_Bound     15698.2900\n",
       "Name: Profit, dtype: float64"
      ]
     },
     "execution_count": 16,
     "metadata": {},
     "output_type": "execute_result"
    }
   ],
   "source": [
    "stats = df1['Profit'].describe()[[\"50%\",\"25%\",\"75%\"]]\n",
    "stats['IQR'] = stats[\"75%\"] - stats[\"25%\"]\n",
    "stats['Upper_Bound'] = stats[\"75%\"] + 1.5*stats['IQR']\n",
    "stats['Lower_Bound'] = stats[\"25%\"] - 1.5*stats['IQR']\n",
    "stats"
   ]
  },
  {
   "cell_type": "code",
   "execution_count": 17,
   "id": "ff9705ee-aebc-4b14-a6e1-b1648d847282",
   "metadata": {},
   "outputs": [
    {
     "data": {
      "text/plain": [
       "49    14681.4\n",
       "Name: Profit, dtype: float64"
      ]
     },
     "execution_count": 17,
     "metadata": {},
     "output_type": "execute_result"
    }
   ],
   "source": [
    "outliers_mask = (df1['Profit'] <= stats['Lower_Bound']) | (df1['Profit'] >= stats['Upper_Bound'])\n",
    "\n",
    "outliers = df1.loc[outliers_mask, 'Profit']\n",
    "\n",
    "outliers"
   ]
  },
  {
   "cell_type": "markdown",
   "id": "6cfd578c-cb5f-4081-b214-17a0785cbc6b",
   "metadata": {},
   "source": [
    "## Transform Dataset\n",
    "\n",
    "https://www.statology.org/transform-data-in-python/"
   ]
  },
  {
   "cell_type": "code",
   "execution_count": 18,
   "id": "f8bfe76b-1ddf-495e-949a-89cf0db34db3",
   "metadata": {},
   "outputs": [
    {
     "data": {
      "image/png": "[encoded data removed]",
      "text/plain": [
       "<Figure size 1200x300 with 3 Axes>"
      ]
     },
     "metadata": {},
     "output_type": "display_data"
    }
   ],
   "source": [
    "plt.subplots(1,3,figsize = (12,3))\n",
    "plt.subplot(131)\n",
    "plt.boxplot(np.log(df1['Profit']))\n",
    "plt.subplot(132)\n",
    "plt.boxplot(np.sqrt(df1['Profit']))\n",
    "plt.subplot(133)\n",
    "plt.boxplot(np.cbrt(df1['Profit']))\n",
    "plt.tight_layout()\n",
    "plt.show()"
   ]
  },
  {
   "cell_type": "markdown",
   "id": "97f28736-0c63-4203-9d77-c91f36936e52",
   "metadata": {},
   "source": [
    "#### Observation: Even After Transformation we cannot get rid of the outlier"
   ]
  },
  {
   "cell_type": "markdown",
   "id": "1d54e1fe-24a0-4170-bf34-5ec969309f62",
   "metadata": {},
   "source": [
    "## Build Model without removing outliers"
   ]
  },
  {
   "cell_type": "code",
   "execution_count": 19,
   "id": "54adb203-6965-4996-a3e1-28b0a99b3913",
   "metadata": {},
   "outputs": [],
   "source": [
    "model = smf.ols(\"Profit~RDS+ADMS+MKTS\", data = df1)\n",
    "raw_model = model.fit()"
   ]
  },
  {
   "cell_type": "code",
   "execution_count": 20,
   "id": "cc72d91b-bde2-4ab8-9f4b-9581706e72c2",
   "metadata": {},
   "outputs": [
    {
     "data": {
      "text/plain": [
       "(0.9507459940683246, 0.9475337762901719)"
      ]
     },
     "execution_count": 20,
     "metadata": {},
     "output_type": "execute_result"
    }
   ],
   "source": [
    "raw_model.rsquared , raw_model.rsquared_adj "
   ]
  },
  {
   "cell_type": "markdown",
   "id": "1976abf5-5321-43d7-a536-015b9dea60bb",
   "metadata": {},
   "source": [
    "## Let's try Median Imputation to handle Outlier in Profit"
   ]
  },
  {
   "cell_type": "code",
   "execution_count": 21,
   "id": "4544b847-782c-4126-a531-8a28004b7e47",
   "metadata": {},
   "outputs": [],
   "source": [
    "df2 = df1.copy()"
   ]
  },
  {
   "cell_type": "code",
   "execution_count": 22,
   "id": "49d3f09a-e952-4665-a1c4-ea377bb2fcd8",
   "metadata": {},
   "outputs": [
    {
     "data": {
      "image/png": "[encoded data removed]",
      "text/plain": [
       "<Figure size 1200x300 with 2 Axes>"
      ]
     },
     "metadata": {},
     "output_type": "display_data"
    }
   ],
   "source": [
    "median = df2['Profit'].median()\n",
    "\n",
    "outliers_before_imputation = df2.loc[outliers_mask, 'Profit']\n",
    "plt.subplots(1,2,figsize = (12,3))\n",
    "plt.subplot(121)\n",
    "plt.boxplot(df2['Profit'], vert=False)\n",
    "plt.title(\"Boxplot of Profit before Median Imputation\")\n",
    "\n",
    "# Impute outliers with median\n",
    "df2.loc[outliers_mask, 'Profit'] = median\n",
    "\n",
    "outliers_after_imputation = df2.loc[outliers_mask, 'Profit']\n",
    "plt.subplot(122)\n",
    "plt.boxplot(df2['Profit'],vert=False)\n",
    "plt.title(\"Boxplot of Profit after Median Imputation\")\n",
    "plt.show()"
   ]
  },
  {
   "cell_type": "markdown",
   "id": "061be665-66d5-428a-9bb9-00966160af4c",
   "metadata": {},
   "source": [
    "## Let's test our data in model and compare the R-squared with Median imputation data model"
   ]
  },
  {
   "cell_type": "code",
   "execution_count": 23,
   "id": "7d27254e-b225-4347-b810-04d19170540e",
   "metadata": {},
   "outputs": [
    {
     "data": {
      "text/plain": [
       "(0.9182958360807372, 0.91296730365122)"
      ]
     },
     "execution_count": 23,
     "metadata": {},
     "output_type": "execute_result"
    }
   ],
   "source": [
    "model = smf.ols(\"Profit~RDS+ADMS+MKTS\", data = df2)\n",
    "after_median_imputation_model = model.fit()\n",
    "after_median_imputation_model.rsquared , after_median_imputation_model.rsquared_adj "
   ]
  },
  {
   "cell_type": "markdown",
   "id": "181bea2a-5ac6-4271-b9a0-3c103cdaae25",
   "metadata": {},
   "source": [
    "#### Observation: As you can see after median imputation the model is not performing well."
   ]
  },
  {
   "cell_type": "markdown",
   "id": "22e7e7c6-d9fd-4f1f-b5e1-e24c96366adb",
   "metadata": {},
   "source": [
    "## Let's try Mean Imputation to handle Outlier in Profit"
   ]
  },
  {
   "cell_type": "code",
   "execution_count": 24,
   "id": "3cda2091-3d59-4b81-b858-1632d7ebdffd",
   "metadata": {},
   "outputs": [],
   "source": [
    "df3 = df1.copy()"
   ]
  },
  {
   "cell_type": "code",
   "execution_count": 25,
   "id": "34f0b1e6-4db9-43dd-90b7-47d9db5183e6",
   "metadata": {},
   "outputs": [
    {
     "data": {
      "image/png": "[encoded data removed]",
      "text/plain": [
       "<Figure size 1200x300 with 2 Axes>"
      ]
     },
     "metadata": {},
     "output_type": "display_data"
    }
   ],
   "source": [
    "mean = df3['Profit'].mean()\n",
    "\n",
    "outliers_before_imputation = df3.loc[outliers_mask, 'Profit']\n",
    "plt.subplots(1,2,figsize = (12,3))\n",
    "plt.subplot(121)\n",
    "plt.boxplot(df3['Profit'], vert=False)\n",
    "plt.title(\"Boxplot of Profit before Mean Imputation\")\n",
    "\n",
    "# Impute outliers with mean\n",
    "df3.loc[outliers_mask, 'Profit'] = mean\n",
    "\n",
    "outliers_after_imputation = df3.loc[outliers_mask, 'Profit']\n",
    "plt.subplot(122)\n",
    "plt.boxplot(df3['Profit'],vert=False)\n",
    "plt.title(\"Boxplot of Profit after Mean Imputation\")\n",
    "plt.show()"
   ]
  },
  {
   "cell_type": "code",
   "execution_count": 26,
   "id": "e8a2c33c-7917-49ad-a026-585f03ab5deb",
   "metadata": {},
   "outputs": [
    {
     "data": {
      "text/plain": [
       "(0.9119537155310937, 0.9062115665439912)"
      ]
     },
     "execution_count": 26,
     "metadata": {},
     "output_type": "execute_result"
    }
   ],
   "source": [
    "model = smf.ols(\"Profit~RDS+ADMS+MKTS\", data = df3)\n",
    "after_mean_imputation_model = model.fit()\n",
    "after_mean_imputation_model.rsquared , after_mean_imputation_model.rsquared_adj"
   ]
  },
  {
   "cell_type": "markdown",
   "id": "9db32c5c-6ef9-411b-a1b5-f3f6c2d1bd69",
   "metadata": {},
   "source": [
    "#### Observation: As you can see after mean imputation the model is not performing well & it got a little worse than the median one 0.9119 < 0.9182."
   ]
  },
  {
   "cell_type": "markdown",
   "id": "29d96e7c-2569-4b94-be9f-5ed8aa21e698",
   "metadata": {},
   "source": [
    "## Now to remove the outlier and fit the model"
   ]
  },
  {
   "cell_type": "code",
   "execution_count": 27,
   "id": "436c7006-1dfc-46e7-bab2-d7f86b5933f6",
   "metadata": {},
   "outputs": [
    {
     "data": {
      "text/plain": [
       "(50, 5)"
      ]
     },
     "execution_count": 27,
     "metadata": {},
     "output_type": "execute_result"
    }
   ],
   "source": [
    "df4 = df1.copy()\n",
    "df4.shape"
   ]
  },
  {
   "cell_type": "code",
   "execution_count": 28,
   "id": "e7f780d1-8011-45c2-a341-62208c3293d6",
   "metadata": {},
   "outputs": [
    {
     "data": {
      "text/plain": [
       "(49, 5)"
      ]
     },
     "execution_count": 28,
     "metadata": {},
     "output_type": "execute_result"
    }
   ],
   "source": [
    "df4 = df4[~outliers_mask]\n",
    "df4.shape"
   ]
  },
  {
   "cell_type": "code",
   "execution_count": 29,
   "id": "ae736880-262a-44a7-9f36-75589cb2a0fe",
   "metadata": {},
   "outputs": [
    {
     "data": {
      "text/plain": [
       "(0.9613162435129847, 0.9587373264138503)"
      ]
     },
     "execution_count": 29,
     "metadata": {},
     "output_type": "execute_result"
    }
   ],
   "source": [
    "model = smf.ols(\"Profit~RDS+ADMS+MKTS\", data = df4)\n",
    "# model = smf.ols(\"Profit~RDS+MKTS\", data = df4) passed cook's distance.\n",
    "removed_outlier_model = model.fit()\n",
    "removed_outlier_model.rsquared , removed_outlier_model.rsquared_adj"
   ]
  },
  {
   "cell_type": "markdown",
   "id": "e600f894-6f5c-42d6-a377-0921ad7d15ef",
   "metadata": {},
   "source": [
    "#### Observation: A Slightly better score than the raw data model 96.13%\n",
    "<ul><li>Note: We will continue with this data set df4.</li></ul>"
   ]
  },
  {
   "cell_type": "code",
   "execution_count": 30,
   "id": "c3c73de9-a19e-4f6a-a9bd-ab5789c73407",
   "metadata": {},
   "outputs": [
    {
     "data": {
      "image/png": "[encoded data removed]",
      "text/plain": [
       "<Figure size 600x300 with 1 Axes>"
      ]
     },
     "metadata": {},
     "output_type": "display_data"
    }
   ],
   "source": [
    "plt.figure(figsize=(6,3))\n",
    "ax = sns.barplot(x = \"State\", y = 'Profit', data = df4)\n",
    "for i in ax.containers:\n",
    "    ax.bar_label(i,)"
   ]
  },
  {
   "cell_type": "markdown",
   "id": "a808fb03-44af-4e18-8d86-f5106282954b",
   "metadata": {},
   "source": [
    "#### Observation:There is'nt much of difference between how much profit each state generates from each other and there is'nt any direct relation\n",
    "<ul><li>Note: We are going to drop this feature while building model as it is an irrelevant feature for our inferences</li></ul>"
   ]
  },
  {
   "cell_type": "markdown",
   "id": "dc27001e-cb79-4175-b734-251e523c81ca",
   "metadata": {},
   "source": [
    "## Correlation Analysis"
   ]
  },
  {
   "cell_type": "code",
   "execution_count": 31,
   "id": "6de0eff9-6b1c-4d4c-8024-e746105e2116",
   "metadata": {},
   "outputs": [
    {
     "data": {
      "text/plain": [
       "Index(['RDS', 'ADMS', 'MKTS', 'State', 'Profit'], dtype='object')"
      ]
     },
     "execution_count": 31,
     "metadata": {},
     "output_type": "execute_result"
    }
   ],
   "source": [
    "df4.columns"
   ]
  },
  {
   "cell_type": "code",
   "execution_count": 32,
   "id": "c12b480f-b943-4610-b2d4-0c6933282358",
   "metadata": {},
   "outputs": [
    {
     "data": {
      "text/plain": [
       "Index(['RDS', 'ADMS', 'MKTS', 'Profit'], dtype='object')"
      ]
     },
     "execution_count": 32,
     "metadata": {},
     "output_type": "execute_result"
    }
   ],
   "source": [
    "df5 = df4.drop('State', axis=1)\n",
    "df5.columns"
   ]
  },
  {
   "cell_type": "code",
   "execution_count": 33,
   "id": "72f9e335-3c2f-432b-b22e-d23def3c2694",
   "metadata": {},
   "outputs": [
    {
     "data": {
      "text/html": [
       "<div>\n",
       "<style scoped>\n",
       "    .dataframe tbody tr th:only-of-type {\n",
       "        vertical-align: middle;\n",
       "    }\n",
       "\n",
       "    .dataframe tbody tr th {\n",
       "        vertical-align: top;\n",
       "    }\n",
       "\n",
       "    .dataframe thead th {\n",
       "        text-align: right;\n",
       "    }\n",
       "</style>\n",
       "<table border=\"1\" class=\"dataframe\">\n",
       "  <thead>\n",
       "    <tr style=\"text-align: right;\">\n",
       "      <th></th>\n",
       "      <th>RDS</th>\n",
       "      <th>ADMS</th>\n",
       "      <th>MKTS</th>\n",
       "      <th>Profit</th>\n",
       "    </tr>\n",
       "  </thead>\n",
       "  <tbody>\n",
       "    <tr>\n",
       "      <th>RDS</th>\n",
       "      <td>1.000000</td>\n",
       "      <td>0.243438</td>\n",
       "      <td>0.711654</td>\n",
       "      <td>0.978437</td>\n",
       "    </tr>\n",
       "    <tr>\n",
       "      <th>ADMS</th>\n",
       "      <td>0.243438</td>\n",
       "      <td>1.000000</td>\n",
       "      <td>-0.037280</td>\n",
       "      <td>0.205841</td>\n",
       "    </tr>\n",
       "    <tr>\n",
       "      <th>MKTS</th>\n",
       "      <td>0.711654</td>\n",
       "      <td>-0.037280</td>\n",
       "      <td>1.000000</td>\n",
       "      <td>0.739307</td>\n",
       "    </tr>\n",
       "    <tr>\n",
       "      <th>Profit</th>\n",
       "      <td>0.978437</td>\n",
       "      <td>0.205841</td>\n",
       "      <td>0.739307</td>\n",
       "      <td>1.000000</td>\n",
       "    </tr>\n",
       "  </tbody>\n",
       "</table>\n",
       "</div>"
      ],
      "text/plain": [
       "             RDS      ADMS      MKTS    Profit\n",
       "RDS     1.000000  0.243438  0.711654  0.978437\n",
       "ADMS    0.243438  1.000000 -0.037280  0.205841\n",
       "MKTS    0.711654 -0.037280  1.000000  0.739307\n",
       "Profit  0.978437  0.205841  0.739307  1.000000"
      ]
     },
     "execution_count": 33,
     "metadata": {},
     "output_type": "execute_result"
    }
   ],
   "source": [
    "df5.corr()"
   ]
  },
  {
   "cell_type": "markdown",
   "id": "597d0ab7-494e-4eeb-b077-4b84488e4f24",
   "metadata": {},
   "source": [
    "#### Observation: R&D has the highest score of correlation with Profit"
   ]
  },
  {
   "cell_type": "markdown",
   "id": "81e1a6c3-9c9c-4968-90a4-861d89907638",
   "metadata": {},
   "source": [
    "## Detecting Influencers/Outliers in the Model"
   ]
  },
  {
   "cell_type": "code",
   "execution_count": 34,
   "id": "d27dd482-a11e-4733-a439-8378ed535e93",
   "metadata": {},
   "outputs": [],
   "source": [
    "influence_points=removed_outlier_model.get_influence()\n",
    "c, p_value=influence_points.cooks_distance"
   ]
  },
  {
   "cell_type": "markdown",
   "id": "6e096893-42b4-448d-8838-ab4d73c6f5d4",
   "metadata": {},
   "source": [
    "#### Leverage Cuttoff Value = 3*(k+1)/n ; k = no.of features/columns & n = no. of datapoints"
   ]
  },
  {
   "cell_type": "code",
   "execution_count": 35,
   "id": "6a5f28da-1675-44b8-8275-9ca84a0ae12b",
   "metadata": {},
   "outputs": [],
   "source": [
    "k=df4.shape[1]\n",
    "n=df4.shape[0]\n",
    "leverage_cutoff = (3*(k+1))/n\n",
    "#print('Cut-off line at',np.round(leverage_cutoff,2)) 0.37"
   ]
  },
  {
   "cell_type": "markdown",
   "id": "12de63a8-7e04-4bb7-af91-a85b0cabce69",
   "metadata": {},
   "source": [
    "#### Let's plot the influencers and also plot a cut off line using the stem plot"
   ]
  },
  {
   "cell_type": "code",
   "execution_count": 36,
   "id": "c705d11f-8e50-4c34-81c5-e867e754a68a",
   "metadata": {},
   "outputs": [
    {
     "data": {
      "image/png": "[encoded data removed]",
      "text/plain": [
       "<Figure size 800x400 with 1 Axes>"
      ]
     },
     "metadata": {},
     "output_type": "display_data"
    }
   ],
   "source": [
    "fig = plt.figure(figsize = (8,4))\n",
    "x = [0,48]\n",
    "y = [0.5,0.5]\n",
    "plt.plot(x, y,color='darkred', linewidth=2)\n",
    "y1 = [0.4,0.4]\n",
    "plt.plot(x , y1, color = 'red', linewidth = 2)\n",
    "plt.stem(np.arange(len(df4)), np.round(c, 3))\n",
    "plt.xlabel('Row index')\n",
    "plt.ylabel(\"Cook's Distance\")\n",
    "plt.show()"
   ]
  },
  {
   "cell_type": "markdown",
   "id": "2044cf4c-646c-49b8-bea3-9d093cc8c480",
   "metadata": {},
   "source": [
    "#### Observation: All the points are below our cut-off line\n",
    "<ul><li>Hence, we can say that there are no influncers present in our model we can proceed with the predictions</li></ul>"
   ]
  },
  {
   "cell_type": "markdown",
   "id": "28cd545d-b5aa-4bc7-add5-833cd72563a2",
   "metadata": {},
   "source": [
    "## Model Predictions"
   ]
  },
  {
   "cell_type": "code",
   "execution_count": 37,
   "id": "22f5e0a5-fe7d-4de8-84e5-70ca9903e17c",
   "metadata": {},
   "outputs": [
    {
     "data": {
      "text/plain": [
       "Index(['RDS', 'ADMS', 'MKTS', 'State', 'Profit'], dtype='object')"
      ]
     },
     "execution_count": 37,
     "metadata": {},
     "output_type": "execute_result"
    }
   ],
   "source": [
    "df4.columns"
   ]
  },
  {
   "cell_type": "code",
   "execution_count": 38,
   "id": "d66bee97-955a-4e27-9a5e-4131603e8b6a",
   "metadata": {},
   "outputs": [
    {
     "data": {
      "text/html": [
       "<div>\n",
       "<style scoped>\n",
       "    .dataframe tbody tr th:only-of-type {\n",
       "        vertical-align: middle;\n",
       "    }\n",
       "\n",
       "    .dataframe tbody tr th {\n",
       "        vertical-align: top;\n",
       "    }\n",
       "\n",
       "    .dataframe thead th {\n",
       "        text-align: right;\n",
       "    }\n",
       "</style>\n",
       "<table border=\"1\" class=\"dataframe\">\n",
       "  <thead>\n",
       "    <tr style=\"text-align: right;\">\n",
       "      <th></th>\n",
       "      <th>RDS</th>\n",
       "      <th>ADMS</th>\n",
       "      <th>MKTS</th>\n",
       "      <th>Profit</th>\n",
       "      <th>Predicted_Profit</th>\n",
       "    </tr>\n",
       "  </thead>\n",
       "  <tbody>\n",
       "    <tr>\n",
       "      <th>0</th>\n",
       "      <td>165349.20</td>\n",
       "      <td>136897.80</td>\n",
       "      <td>471784.10</td>\n",
       "      <td>192261.83</td>\n",
       "      <td>190716.676999</td>\n",
       "    </tr>\n",
       "    <tr>\n",
       "      <th>1</th>\n",
       "      <td>162597.70</td>\n",
       "      <td>151377.59</td>\n",
       "      <td>443898.53</td>\n",
       "      <td>191792.06</td>\n",
       "      <td>187537.122227</td>\n",
       "    </tr>\n",
       "    <tr>\n",
       "      <th>2</th>\n",
       "      <td>153441.51</td>\n",
       "      <td>101145.55</td>\n",
       "      <td>407934.54</td>\n",
       "      <td>191050.39</td>\n",
       "      <td>180575.526396</td>\n",
       "    </tr>\n",
       "    <tr>\n",
       "      <th>3</th>\n",
       "      <td>144372.41</td>\n",
       "      <td>118671.85</td>\n",
       "      <td>383199.62</td>\n",
       "      <td>182901.99</td>\n",
       "      <td>172461.144642</td>\n",
       "    </tr>\n",
       "    <tr>\n",
       "      <th>4</th>\n",
       "      <td>142107.34</td>\n",
       "      <td>91391.77</td>\n",
       "      <td>366168.42</td>\n",
       "      <td>166187.94</td>\n",
       "      <td>170863.486721</td>\n",
       "    </tr>\n",
       "  </tbody>\n",
       "</table>\n",
       "</div>"
      ],
      "text/plain": [
       "         RDS       ADMS       MKTS     Profit  Predicted_Profit\n",
       "0  165349.20  136897.80  471784.10  192261.83     190716.676999\n",
       "1  162597.70  151377.59  443898.53  191792.06     187537.122227\n",
       "2  153441.51  101145.55  407934.54  191050.39     180575.526396\n",
       "3  144372.41  118671.85  383199.62  182901.99     172461.144642\n",
       "4  142107.34   91391.77  366168.42  166187.94     170863.486721"
      ]
     },
     "execution_count": 38,
     "metadata": {},
     "output_type": "execute_result"
    }
   ],
   "source": [
    "predicted = pd.DataFrame()\n",
    "predicted['RDS'] = df4.RDS\n",
    "predicted['ADMS'] = df4.ADMS\n",
    "predicted['MKTS'] = df4.MKTS\n",
    "predicted['Profit'] = df4.Profit\n",
    "predicted['Predicted_Profit'] = pd.DataFrame(removed_outlier_model.predict(predicted[['RDS','ADMS','MKTS']]))\n",
    "predicted.head()"
   ]
  },
  {
   "cell_type": "markdown",
   "id": "67b98e0f-e98f-4ffc-8049-352f71f9c864",
   "metadata": {},
   "source": [
    "## Table containing metrics for each prepared model"
   ]
  },
  {
   "cell_type": "code",
   "execution_count": 39,
   "id": "93409421-2649-490c-813c-4c9af8250dc1",
   "metadata": {},
   "outputs": [
    {
     "data": {
      "text/html": [
       "<div>\n",
       "<style scoped>\n",
       "    .dataframe tbody tr th:only-of-type {\n",
       "        vertical-align: middle;\n",
       "    }\n",
       "\n",
       "    .dataframe tbody tr th {\n",
       "        vertical-align: top;\n",
       "    }\n",
       "\n",
       "    .dataframe thead th {\n",
       "        text-align: right;\n",
       "    }\n",
       "</style>\n",
       "<table border=\"1\" class=\"dataframe\">\n",
       "  <thead>\n",
       "    <tr style=\"text-align: right;\">\n",
       "      <th></th>\n",
       "      <th>rsquared</th>\n",
       "      <th>rsquared_adj</th>\n",
       "      <th>RMSE</th>\n",
       "    </tr>\n",
       "  </thead>\n",
       "  <tbody>\n",
       "    <tr>\n",
       "      <th>raw_model</th>\n",
       "      <td>0.950746</td>\n",
       "      <td>0.947534</td>\n",
       "      <td>9232.334837</td>\n",
       "    </tr>\n",
       "    <tr>\n",
       "      <th>after_median_imputation_model</th>\n",
       "      <td>0.918296</td>\n",
       "      <td>0.912967</td>\n",
       "      <td>11148.345424</td>\n",
       "    </tr>\n",
       "    <tr>\n",
       "      <th>after_mean_imputation_model</th>\n",
       "      <td>0.911954</td>\n",
       "      <td>0.906212</td>\n",
       "      <td>11570.325358</td>\n",
       "    </tr>\n",
       "    <tr>\n",
       "      <th>removed_outlier_model</th>\n",
       "      <td>0.961316</td>\n",
       "      <td>0.958737</td>\n",
       "      <td>7753.807752</td>\n",
       "    </tr>\n",
       "  </tbody>\n",
       "</table>\n",
       "</div>"
      ],
      "text/plain": [
       "                               rsquared  rsquared_adj          RMSE\n",
       "raw_model                      0.950746      0.947534   9232.334837\n",
       "after_median_imputation_model  0.918296      0.912967  11148.345424\n",
       "after_mean_imputation_model    0.911954      0.906212  11570.325358\n",
       "removed_outlier_model          0.961316      0.958737   7753.807752"
      ]
     },
     "execution_count": 39,
     "metadata": {},
     "output_type": "execute_result"
    }
   ],
   "source": [
    "vals = dict()\n",
    "\n",
    "models = [raw_model, after_median_imputation_model, after_mean_imputation_model, removed_outlier_model]\n",
    "rsquared_values, rsquared_adj_values, rmse_values = [], [], []\n",
    "\n",
    "for x in models:\n",
    "    rsquared_values.append(x.rsquared)\n",
    "    rsquared_adj_values.append(x.rsquared_adj)\n",
    "    rmse_values.append(np.sqrt(x.mse_resid))\n",
    "\n",
    "vals['rsquared'] = rsquared_values\n",
    "vals['rsquared_adj'] = rsquared_adj_values\n",
    "vals['RMSE'] = rmse_values\n",
    "\n",
    "indexes = ['raw_model', 'after_median_imputation_model', 'after_mean_imputation_model', 'removed_outlier_model']\n",
    "model_metrics = pd.DataFrame(data = vals, index = indexes)\n",
    "model_metrics"
   ]
  },
  {
   "cell_type": "markdown",
   "id": "ed1ee61a-ad48-454c-9e79-377ca4882c2b",
   "metadata": {},
   "source": [
    "## Visualize Model Performance"
   ]
  },
  {
   "cell_type": "code",
   "execution_count": 40,
   "id": "3df69d85-e12c-4060-ac79-6ffbf527626d",
   "metadata": {},
   "outputs": [
    {
     "data": {
      "image/png": "[encoded data removed]",
      "text/plain": [
       "<Figure size 600x400 with 1 Axes>"
      ]
     },
     "metadata": {},
     "output_type": "display_data"
    }
   ],
   "source": [
    "plt.figure(figsize=(6,4))\n",
    "plt.barh(y=model_metrics.index, width = model_metrics.rsquared, height=0.8)\n",
    "plt.tight_layout()\n",
    "plt.xlabel(xlabel='rsquared')\n",
    "plt.show()"
   ]
  }
 ],
 "metadata": {
  "kernelspec": {
   "display_name": "Python 3 (ipykernel)",
   "language": "python",
   "name": "python3"
  },
  "language_info": {
   "codemirror_mode": {
    "name": "ipython",
    "version": 3
   },
   "file_extension": ".py",
   "mimetype": "text/x-python",
   "name": "python",
   "nbconvert_exporter": "python",
   "pygments_lexer": "ipython3",
   "version": "3.11.0"
  }
 },
 "nbformat": 4,
 "nbformat_minor": 5
}
