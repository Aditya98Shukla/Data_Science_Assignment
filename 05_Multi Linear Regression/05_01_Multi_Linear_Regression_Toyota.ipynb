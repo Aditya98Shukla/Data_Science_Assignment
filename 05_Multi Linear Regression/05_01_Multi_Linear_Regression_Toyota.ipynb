{
 "cells": [
  {
   "cell_type": "code",
   "execution_count": 1,
   "id": "e4c30971-11a7-4119-8f85-2fd88f8ae12b",
   "metadata": {},
   "outputs": [],
   "source": [
    "import pandas as pd\n",
    "import numpy as np\n",
    "import matplotlib.pyplot as plt\n",
    "import seaborn as sns\n",
    "import statsmodels.formula.api as smf\n",
    "import statsmodels.api as sm\n",
    "from statsmodels.graphics.regressionplots import influence_plot"
   ]
  },
  {
   "cell_type": "code",
   "execution_count": 2,
   "id": "312798c5-dd0c-4c8d-bc97-f0a6450e5ba9",
   "metadata": {},
   "outputs": [],
   "source": [
    "# Supress Warnings\n",
    "\n",
    "import warnings\n",
    "warnings.filterwarnings('ignore')"
   ]
  },
  {
   "cell_type": "markdown",
   "id": "dde73373-5ea0-4dd2-97b9-77ca526bc4da",
   "metadata": {},
   "source": [
    "## Problem Statement"
   ]
  },
  {
   "cell_type": "markdown",
   "id": "b1d86dfb-906f-45ae-a726-3f303e641cca",
   "metadata": {},
   "source": [
    "### Prepare a prediction model for predicting Price."
   ]
  },
  {
   "cell_type": "markdown",
   "id": "56e93cd9-bb06-4fe2-993a-45fa21fb3d28",
   "metadata": {},
   "source": [
    "<ul>\n",
    "<li>Do transformations for getting better predictions of price and make a table containing R^2 value for each prepared model.</li>\n",
    "<ul>"
   ]
  },
  {
   "cell_type": "markdown",
   "id": "f8184130-b982-49a9-9ada-eb79c99e26e1",
   "metadata": {},
   "source": [
    "Consider these columns for prediction.\n",
    "\n",
    "\"Price\",\"Age_08_04\",\"KM\",\"HP\",\"cc\",\"Doors\",\"Gears\",\"Quarterly_Tax\",\"Weight\"."
   ]
  },
  {
   "cell_type": "markdown",
   "id": "0883ef03-4436-4cad-8af6-7f7fa6ac508d",
   "metadata": {},
   "source": [
    "### Features"
   ]
  },
  {
   "cell_type": "markdown",
   "id": "245fce70-d094-4184-8920-c8a65c5a4d2f",
   "metadata": {},
   "source": [
    "<ul>\n",
    "    <li>Model -- model of the car</li>\n",
    "    <li>Price -- Offer Price in EUROs</li>\n",
    "    <li>Age_08_04 -- Age in months as in August 2004</li>\n",
    "    <li>KM -- Accumulated Kilometers on odometer</li>\n",
    "    <li>HP -- Horse Power</li>\n",
    "    <li>cc -- Cylinder Volume in cubic centimeters</li>\n",
    "    <li>Doors -- Number of doors</li>\n",
    "    <li>Gears -- Number of gear positions</li>\n",
    "    <li>Quarterly_Tax -- Quarterly road tax in EUROs</li>\n",
    "    <li>Weight -- Weight in Kilograms</li>\n",
    "</ul>"
   ]
  },
  {
   "cell_type": "markdown",
   "id": "02a34885-359d-4366-8796-358712b521d5",
   "metadata": {},
   "source": [
    "## Importing dataset"
   ]
  },
  {
   "cell_type": "code",
   "execution_count": 3,
   "id": "a53039a7-264b-4377-b011-61a0fcf2a4f7",
   "metadata": {},
   "outputs": [
    {
     "data": {
      "text/html": [
       "<div>\n",
       "<style scoped>\n",
       "    .dataframe tbody tr th:only-of-type {\n",
       "        vertical-align: middle;\n",
       "    }\n",
       "\n",
       "    .dataframe tbody tr th {\n",
       "        vertical-align: top;\n",
       "    }\n",
       "\n",
       "    .dataframe thead th {\n",
       "        text-align: right;\n",
       "    }\n",
       "</style>\n",
       "<table border=\"1\" class=\"dataframe\">\n",
       "  <thead>\n",
       "    <tr style=\"text-align: right;\">\n",
       "      <th></th>\n",
       "      <th>Id</th>\n",
       "      <th>Model</th>\n",
       "      <th>Price</th>\n",
       "      <th>Age_08_04</th>\n",
       "      <th>Mfg_Month</th>\n",
       "      <th>Mfg_Year</th>\n",
       "      <th>KM</th>\n",
       "      <th>Fuel_Type</th>\n",
       "      <th>HP</th>\n",
       "      <th>Met_Color</th>\n",
       "      <th>...</th>\n",
       "      <th>Central_Lock</th>\n",
       "      <th>Powered_Windows</th>\n",
       "      <th>Power_Steering</th>\n",
       "      <th>Radio</th>\n",
       "      <th>Mistlamps</th>\n",
       "      <th>Sport_Model</th>\n",
       "      <th>Backseat_Divider</th>\n",
       "      <th>Metallic_Rim</th>\n",
       "      <th>Radio_cassette</th>\n",
       "      <th>Tow_Bar</th>\n",
       "    </tr>\n",
       "  </thead>\n",
       "  <tbody>\n",
       "    <tr>\n",
       "      <th>0</th>\n",
       "      <td>1</td>\n",
       "      <td>TOYOTA Corolla 2.0 D4D HATCHB TERRA 2/3-Doors</td>\n",
       "      <td>13500</td>\n",
       "      <td>23</td>\n",
       "      <td>10</td>\n",
       "      <td>2002</td>\n",
       "      <td>46986</td>\n",
       "      <td>Diesel</td>\n",
       "      <td>90</td>\n",
       "      <td>1</td>\n",
       "      <td>...</td>\n",
       "      <td>1</td>\n",
       "      <td>1</td>\n",
       "      <td>1</td>\n",
       "      <td>0</td>\n",
       "      <td>0</td>\n",
       "      <td>0</td>\n",
       "      <td>1</td>\n",
       "      <td>0</td>\n",
       "      <td>0</td>\n",
       "      <td>0</td>\n",
       "    </tr>\n",
       "    <tr>\n",
       "      <th>1</th>\n",
       "      <td>2</td>\n",
       "      <td>TOYOTA Corolla 2.0 D4D HATCHB TERRA 2/3-Doors</td>\n",
       "      <td>13750</td>\n",
       "      <td>23</td>\n",
       "      <td>10</td>\n",
       "      <td>2002</td>\n",
       "      <td>72937</td>\n",
       "      <td>Diesel</td>\n",
       "      <td>90</td>\n",
       "      <td>1</td>\n",
       "      <td>...</td>\n",
       "      <td>1</td>\n",
       "      <td>0</td>\n",
       "      <td>1</td>\n",
       "      <td>0</td>\n",
       "      <td>0</td>\n",
       "      <td>0</td>\n",
       "      <td>1</td>\n",
       "      <td>0</td>\n",
       "      <td>0</td>\n",
       "      <td>0</td>\n",
       "    </tr>\n",
       "    <tr>\n",
       "      <th>2</th>\n",
       "      <td>3</td>\n",
       "      <td>TOYOTA Corolla 2.0 D4D HATCHB TERRA 2/3-Doors</td>\n",
       "      <td>13950</td>\n",
       "      <td>24</td>\n",
       "      <td>9</td>\n",
       "      <td>2002</td>\n",
       "      <td>41711</td>\n",
       "      <td>Diesel</td>\n",
       "      <td>90</td>\n",
       "      <td>1</td>\n",
       "      <td>...</td>\n",
       "      <td>0</td>\n",
       "      <td>0</td>\n",
       "      <td>1</td>\n",
       "      <td>0</td>\n",
       "      <td>0</td>\n",
       "      <td>0</td>\n",
       "      <td>1</td>\n",
       "      <td>0</td>\n",
       "      <td>0</td>\n",
       "      <td>0</td>\n",
       "    </tr>\n",
       "  </tbody>\n",
       "</table>\n",
       "<p>3 rows × 38 columns</p>\n",
       "</div>"
      ],
      "text/plain": [
       "   Id                                           Model  Price  Age_08_04  \\\n",
       "0   1   TOYOTA Corolla 2.0 D4D HATCHB TERRA 2/3-Doors  13500         23   \n",
       "1   2   TOYOTA Corolla 2.0 D4D HATCHB TERRA 2/3-Doors  13750         23   \n",
       "2   3   TOYOTA Corolla 2.0 D4D HATCHB TERRA 2/3-Doors  13950         24   \n",
       "\n",
       "   Mfg_Month  Mfg_Year     KM Fuel_Type  HP  Met_Color  ... Central_Lock  \\\n",
       "0         10      2002  46986    Diesel  90          1  ...            1   \n",
       "1         10      2002  72937    Diesel  90          1  ...            1   \n",
       "2          9      2002  41711    Diesel  90          1  ...            0   \n",
       "\n",
       "   Powered_Windows  Power_Steering  Radio  Mistlamps  Sport_Model  \\\n",
       "0                1               1      0          0            0   \n",
       "1                0               1      0          0            0   \n",
       "2                0               1      0          0            0   \n",
       "\n",
       "   Backseat_Divider  Metallic_Rim  Radio_cassette  Tow_Bar  \n",
       "0                 1             0               0        0  \n",
       "1                 1             0               0        0  \n",
       "2                 1             0               0        0  \n",
       "\n",
       "[3 rows x 38 columns]"
      ]
     },
     "execution_count": 3,
     "metadata": {},
     "output_type": "execute_result"
    }
   ],
   "source": [
    "df = pd.read_csv(\"05_01_ToyotaCorolla.csv\", encoding='latin1')\n",
    "df.head(3)"
   ]
  },
  {
   "cell_type": "code",
   "execution_count": 4,
   "id": "cd8f32a4-b874-4856-8a35-621ddb76f5a4",
   "metadata": {},
   "outputs": [
    {
     "name": "stdout",
     "output_type": "stream",
     "text": [
      "Number of Rows 1436 Columns 38\n"
     ]
    }
   ],
   "source": [
    "print('Number of Rows {} Columns {}'.format(df.shape[0], df.shape[1]))"
   ]
  },
  {
   "cell_type": "code",
   "execution_count": 5,
   "id": "87d2736c-1f76-472a-96dc-4b1faa86d30c",
   "metadata": {},
   "outputs": [
    {
     "data": {
      "text/html": [
       "<div>\n",
       "<style scoped>\n",
       "    .dataframe tbody tr th:only-of-type {\n",
       "        vertical-align: middle;\n",
       "    }\n",
       "\n",
       "    .dataframe tbody tr th {\n",
       "        vertical-align: top;\n",
       "    }\n",
       "\n",
       "    .dataframe thead th {\n",
       "        text-align: right;\n",
       "    }\n",
       "</style>\n",
       "<table border=\"1\" class=\"dataframe\">\n",
       "  <thead>\n",
       "    <tr style=\"text-align: right;\">\n",
       "      <th></th>\n",
       "      <th>Price</th>\n",
       "      <th>Age_08_04</th>\n",
       "      <th>KM</th>\n",
       "      <th>HP</th>\n",
       "      <th>cc</th>\n",
       "      <th>Doors</th>\n",
       "      <th>Gears</th>\n",
       "      <th>Quarterly_Tax</th>\n",
       "      <th>Weight</th>\n",
       "    </tr>\n",
       "  </thead>\n",
       "  <tbody>\n",
       "    <tr>\n",
       "      <th>0</th>\n",
       "      <td>13500</td>\n",
       "      <td>23</td>\n",
       "      <td>46986</td>\n",
       "      <td>90</td>\n",
       "      <td>2000</td>\n",
       "      <td>3</td>\n",
       "      <td>5</td>\n",
       "      <td>210</td>\n",
       "      <td>1165</td>\n",
       "    </tr>\n",
       "    <tr>\n",
       "      <th>1</th>\n",
       "      <td>13750</td>\n",
       "      <td>23</td>\n",
       "      <td>72937</td>\n",
       "      <td>90</td>\n",
       "      <td>2000</td>\n",
       "      <td>3</td>\n",
       "      <td>5</td>\n",
       "      <td>210</td>\n",
       "      <td>1165</td>\n",
       "    </tr>\n",
       "    <tr>\n",
       "      <th>2</th>\n",
       "      <td>13950</td>\n",
       "      <td>24</td>\n",
       "      <td>41711</td>\n",
       "      <td>90</td>\n",
       "      <td>2000</td>\n",
       "      <td>3</td>\n",
       "      <td>5</td>\n",
       "      <td>210</td>\n",
       "      <td>1165</td>\n",
       "    </tr>\n",
       "  </tbody>\n",
       "</table>\n",
       "</div>"
      ],
      "text/plain": [
       "   Price  Age_08_04     KM  HP    cc  Doors  Gears  Quarterly_Tax  Weight\n",
       "0  13500         23  46986  90  2000      3      5            210    1165\n",
       "1  13750         23  72937  90  2000      3      5            210    1165\n",
       "2  13950         24  41711  90  2000      3      5            210    1165"
      ]
     },
     "execution_count": 5,
     "metadata": {},
     "output_type": "execute_result"
    }
   ],
   "source": [
    "consider_these_columns = [\"Price\",\"Age_08_04\",\"KM\",\"HP\",\"cc\",\"Doors\",\"Gears\",\"Quarterly_Tax\",\"Weight\"]\n",
    "df = df[consider_these_columns]\n",
    "df.head(3)"
   ]
  },
  {
   "cell_type": "markdown",
   "id": "f1867da4-4e56-4885-855f-744a7d8e7fe7",
   "metadata": {},
   "source": [
    "## Descriptive Analysis"
   ]
  },
  {
   "cell_type": "code",
   "execution_count": 6,
   "id": "5a3a810b-a67e-4af4-9304-448a966a6800",
   "metadata": {},
   "outputs": [
    {
     "data": {
      "text/html": [
       "<div>\n",
       "<style scoped>\n",
       "    .dataframe tbody tr th:only-of-type {\n",
       "        vertical-align: middle;\n",
       "    }\n",
       "\n",
       "    .dataframe tbody tr th {\n",
       "        vertical-align: top;\n",
       "    }\n",
       "\n",
       "    .dataframe thead th {\n",
       "        text-align: right;\n",
       "    }\n",
       "</style>\n",
       "<table border=\"1\" class=\"dataframe\">\n",
       "  <thead>\n",
       "    <tr style=\"text-align: right;\">\n",
       "      <th></th>\n",
       "      <th>Price</th>\n",
       "      <th>Age_08_04</th>\n",
       "      <th>KM</th>\n",
       "      <th>HP</th>\n",
       "      <th>cc</th>\n",
       "      <th>Doors</th>\n",
       "      <th>Gears</th>\n",
       "      <th>Quarterly_Tax</th>\n",
       "      <th>Weight</th>\n",
       "    </tr>\n",
       "  </thead>\n",
       "  <tbody>\n",
       "    <tr>\n",
       "      <th>count</th>\n",
       "      <td>1436.000000</td>\n",
       "      <td>1436.000000</td>\n",
       "      <td>1436.000000</td>\n",
       "      <td>1436.000000</td>\n",
       "      <td>1436.00000</td>\n",
       "      <td>1436.000000</td>\n",
       "      <td>1436.000000</td>\n",
       "      <td>1436.000000</td>\n",
       "      <td>1436.00000</td>\n",
       "    </tr>\n",
       "    <tr>\n",
       "      <th>mean</th>\n",
       "      <td>10730.824513</td>\n",
       "      <td>55.947075</td>\n",
       "      <td>68533.259749</td>\n",
       "      <td>101.502089</td>\n",
       "      <td>1576.85585</td>\n",
       "      <td>4.033426</td>\n",
       "      <td>5.026462</td>\n",
       "      <td>87.122563</td>\n",
       "      <td>1072.45961</td>\n",
       "    </tr>\n",
       "    <tr>\n",
       "      <th>std</th>\n",
       "      <td>3626.964585</td>\n",
       "      <td>18.599988</td>\n",
       "      <td>37506.448872</td>\n",
       "      <td>14.981080</td>\n",
       "      <td>424.38677</td>\n",
       "      <td>0.952677</td>\n",
       "      <td>0.188510</td>\n",
       "      <td>41.128611</td>\n",
       "      <td>52.64112</td>\n",
       "    </tr>\n",
       "    <tr>\n",
       "      <th>min</th>\n",
       "      <td>4350.000000</td>\n",
       "      <td>1.000000</td>\n",
       "      <td>1.000000</td>\n",
       "      <td>69.000000</td>\n",
       "      <td>1300.00000</td>\n",
       "      <td>2.000000</td>\n",
       "      <td>3.000000</td>\n",
       "      <td>19.000000</td>\n",
       "      <td>1000.00000</td>\n",
       "    </tr>\n",
       "    <tr>\n",
       "      <th>25%</th>\n",
       "      <td>8450.000000</td>\n",
       "      <td>44.000000</td>\n",
       "      <td>43000.000000</td>\n",
       "      <td>90.000000</td>\n",
       "      <td>1400.00000</td>\n",
       "      <td>3.000000</td>\n",
       "      <td>5.000000</td>\n",
       "      <td>69.000000</td>\n",
       "      <td>1040.00000</td>\n",
       "    </tr>\n",
       "    <tr>\n",
       "      <th>50%</th>\n",
       "      <td>9900.000000</td>\n",
       "      <td>61.000000</td>\n",
       "      <td>63389.500000</td>\n",
       "      <td>110.000000</td>\n",
       "      <td>1600.00000</td>\n",
       "      <td>4.000000</td>\n",
       "      <td>5.000000</td>\n",
       "      <td>85.000000</td>\n",
       "      <td>1070.00000</td>\n",
       "    </tr>\n",
       "    <tr>\n",
       "      <th>75%</th>\n",
       "      <td>11950.000000</td>\n",
       "      <td>70.000000</td>\n",
       "      <td>87020.750000</td>\n",
       "      <td>110.000000</td>\n",
       "      <td>1600.00000</td>\n",
       "      <td>5.000000</td>\n",
       "      <td>5.000000</td>\n",
       "      <td>85.000000</td>\n",
       "      <td>1085.00000</td>\n",
       "    </tr>\n",
       "    <tr>\n",
       "      <th>max</th>\n",
       "      <td>32500.000000</td>\n",
       "      <td>80.000000</td>\n",
       "      <td>243000.000000</td>\n",
       "      <td>192.000000</td>\n",
       "      <td>16000.00000</td>\n",
       "      <td>5.000000</td>\n",
       "      <td>6.000000</td>\n",
       "      <td>283.000000</td>\n",
       "      <td>1615.00000</td>\n",
       "    </tr>\n",
       "  </tbody>\n",
       "</table>\n",
       "</div>"
      ],
      "text/plain": [
       "              Price    Age_08_04             KM           HP           cc  \\\n",
       "count   1436.000000  1436.000000    1436.000000  1436.000000   1436.00000   \n",
       "mean   10730.824513    55.947075   68533.259749   101.502089   1576.85585   \n",
       "std     3626.964585    18.599988   37506.448872    14.981080    424.38677   \n",
       "min     4350.000000     1.000000       1.000000    69.000000   1300.00000   \n",
       "25%     8450.000000    44.000000   43000.000000    90.000000   1400.00000   \n",
       "50%     9900.000000    61.000000   63389.500000   110.000000   1600.00000   \n",
       "75%    11950.000000    70.000000   87020.750000   110.000000   1600.00000   \n",
       "max    32500.000000    80.000000  243000.000000   192.000000  16000.00000   \n",
       "\n",
       "             Doors        Gears  Quarterly_Tax      Weight  \n",
       "count  1436.000000  1436.000000    1436.000000  1436.00000  \n",
       "mean      4.033426     5.026462      87.122563  1072.45961  \n",
       "std       0.952677     0.188510      41.128611    52.64112  \n",
       "min       2.000000     3.000000      19.000000  1000.00000  \n",
       "25%       3.000000     5.000000      69.000000  1040.00000  \n",
       "50%       4.000000     5.000000      85.000000  1070.00000  \n",
       "75%       5.000000     5.000000      85.000000  1085.00000  \n",
       "max       5.000000     6.000000     283.000000  1615.00000  "
      ]
     },
     "execution_count": 6,
     "metadata": {},
     "output_type": "execute_result"
    }
   ],
   "source": [
    "df.describe()"
   ]
  },
  {
   "cell_type": "markdown",
   "id": "15bff49a-a32c-4b42-bd2d-a1c877d962b6",
   "metadata": {},
   "source": [
    "### Observation: There are no null Values in the dataset by reading counts from above."
   ]
  },
  {
   "cell_type": "markdown",
   "id": "b6e983d4-8895-4022-a89a-1920487889e3",
   "metadata": {},
   "source": [
    "## Checking for Data types"
   ]
  },
  {
   "cell_type": "code",
   "execution_count": 7,
   "id": "45f64b5c-2780-40d4-9af0-228081265b09",
   "metadata": {},
   "outputs": [
    {
     "name": "stdout",
     "output_type": "stream",
     "text": [
      "<class 'pandas.core.frame.DataFrame'>\n",
      "RangeIndex: 1436 entries, 0 to 1435\n",
      "Data columns (total 9 columns):\n",
      " #   Column         Non-Null Count  Dtype\n",
      "---  ------         --------------  -----\n",
      " 0   Price          1436 non-null   int64\n",
      " 1   Age_08_04      1436 non-null   int64\n",
      " 2   KM             1436 non-null   int64\n",
      " 3   HP             1436 non-null   int64\n",
      " 4   cc             1436 non-null   int64\n",
      " 5   Doors          1436 non-null   int64\n",
      " 6   Gears          1436 non-null   int64\n",
      " 7   Quarterly_Tax  1436 non-null   int64\n",
      " 8   Weight         1436 non-null   int64\n",
      "dtypes: int64(9)\n",
      "memory usage: 101.1 KB\n"
     ]
    }
   ],
   "source": [
    "df.info()"
   ]
  },
  {
   "cell_type": "markdown",
   "id": "f7011470-d02e-45c7-9621-66cd70ff139d",
   "metadata": {},
   "source": [
    "#### Observation: all the data types are correct ."
   ]
  },
  {
   "cell_type": "markdown",
   "id": "d2b8bfe0-eac2-427d-937d-0ac15f451855",
   "metadata": {},
   "source": [
    "## Renaming the columns name to make it short"
   ]
  },
  {
   "cell_type": "code",
   "execution_count": 8,
   "id": "b0a388b8-ee2b-4b52-b1db-365c1165668a",
   "metadata": {},
   "outputs": [
    {
     "data": {
      "text/html": [
       "<div>\n",
       "<style scoped>\n",
       "    .dataframe tbody tr th:only-of-type {\n",
       "        vertical-align: middle;\n",
       "    }\n",
       "\n",
       "    .dataframe tbody tr th {\n",
       "        vertical-align: top;\n",
       "    }\n",
       "\n",
       "    .dataframe thead th {\n",
       "        text-align: right;\n",
       "    }\n",
       "</style>\n",
       "<table border=\"1\" class=\"dataframe\">\n",
       "  <thead>\n",
       "    <tr style=\"text-align: right;\">\n",
       "      <th></th>\n",
       "      <th>Price</th>\n",
       "      <th>Age</th>\n",
       "      <th>KM</th>\n",
       "      <th>HP</th>\n",
       "      <th>CC</th>\n",
       "      <th>Doors</th>\n",
       "      <th>Gears</th>\n",
       "      <th>QT</th>\n",
       "      <th>Weight</th>\n",
       "    </tr>\n",
       "  </thead>\n",
       "  <tbody>\n",
       "    <tr>\n",
       "      <th>0</th>\n",
       "      <td>13500</td>\n",
       "      <td>23</td>\n",
       "      <td>46986</td>\n",
       "      <td>90</td>\n",
       "      <td>2000</td>\n",
       "      <td>3</td>\n",
       "      <td>5</td>\n",
       "      <td>210</td>\n",
       "      <td>1165</td>\n",
       "    </tr>\n",
       "    <tr>\n",
       "      <th>1</th>\n",
       "      <td>13750</td>\n",
       "      <td>23</td>\n",
       "      <td>72937</td>\n",
       "      <td>90</td>\n",
       "      <td>2000</td>\n",
       "      <td>3</td>\n",
       "      <td>5</td>\n",
       "      <td>210</td>\n",
       "      <td>1165</td>\n",
       "    </tr>\n",
       "    <tr>\n",
       "      <th>2</th>\n",
       "      <td>13950</td>\n",
       "      <td>24</td>\n",
       "      <td>41711</td>\n",
       "      <td>90</td>\n",
       "      <td>2000</td>\n",
       "      <td>3</td>\n",
       "      <td>5</td>\n",
       "      <td>210</td>\n",
       "      <td>1165</td>\n",
       "    </tr>\n",
       "    <tr>\n",
       "      <th>3</th>\n",
       "      <td>14950</td>\n",
       "      <td>26</td>\n",
       "      <td>48000</td>\n",
       "      <td>90</td>\n",
       "      <td>2000</td>\n",
       "      <td>3</td>\n",
       "      <td>5</td>\n",
       "      <td>210</td>\n",
       "      <td>1165</td>\n",
       "    </tr>\n",
       "    <tr>\n",
       "      <th>4</th>\n",
       "      <td>13750</td>\n",
       "      <td>30</td>\n",
       "      <td>38500</td>\n",
       "      <td>90</td>\n",
       "      <td>2000</td>\n",
       "      <td>3</td>\n",
       "      <td>5</td>\n",
       "      <td>210</td>\n",
       "      <td>1170</td>\n",
       "    </tr>\n",
       "  </tbody>\n",
       "</table>\n",
       "</div>"
      ],
      "text/plain": [
       "   Price  Age     KM  HP    CC  Doors  Gears   QT  Weight\n",
       "0  13500   23  46986  90  2000      3      5  210    1165\n",
       "1  13750   23  72937  90  2000      3      5  210    1165\n",
       "2  13950   24  41711  90  2000      3      5  210    1165\n",
       "3  14950   26  48000  90  2000      3      5  210    1165\n",
       "4  13750   30  38500  90  2000      3      5  210    1170"
      ]
     },
     "execution_count": 8,
     "metadata": {},
     "output_type": "execute_result"
    }
   ],
   "source": [
    "df1=df.rename({'Age_08_04':'Age','cc':'CC','Quarterly_Tax':'QT'},axis=1)\n",
    "df1.head()"
   ]
  },
  {
   "cell_type": "markdown",
   "id": "97730a27-1dd1-4170-9b9e-ad104cbbf3f8",
   "metadata": {},
   "source": [
    "## Checking for missing values"
   ]
  },
  {
   "cell_type": "code",
   "execution_count": 9,
   "id": "0120d542-98a6-4ca8-8f39-184248f428a9",
   "metadata": {},
   "outputs": [
    {
     "data": {
      "text/plain": [
       "Price     0\n",
       "Age       0\n",
       "KM        0\n",
       "HP        0\n",
       "CC        0\n",
       "Doors     0\n",
       "Gears     0\n",
       "QT        0\n",
       "Weight    0\n",
       "dtype: int64"
      ]
     },
     "execution_count": 9,
     "metadata": {},
     "output_type": "execute_result"
    }
   ],
   "source": [
    "df1.isnull().sum()"
   ]
  },
  {
   "cell_type": "code",
   "execution_count": 10,
   "id": "1098c0bf-9ec7-4e56-ad6c-3a4fc93824e3",
   "metadata": {},
   "outputs": [
    {
     "data": {
      "text/html": [
       "<div>\n",
       "<style scoped>\n",
       "    .dataframe tbody tr th:only-of-type {\n",
       "        vertical-align: middle;\n",
       "    }\n",
       "\n",
       "    .dataframe tbody tr th {\n",
       "        vertical-align: top;\n",
       "    }\n",
       "\n",
       "    .dataframe thead th {\n",
       "        text-align: right;\n",
       "    }\n",
       "</style>\n",
       "<table border=\"1\" class=\"dataframe\">\n",
       "  <thead>\n",
       "    <tr style=\"text-align: right;\">\n",
       "      <th></th>\n",
       "      <th>Price</th>\n",
       "      <th>Age</th>\n",
       "      <th>KM</th>\n",
       "      <th>HP</th>\n",
       "      <th>CC</th>\n",
       "      <th>Doors</th>\n",
       "      <th>Gears</th>\n",
       "      <th>QT</th>\n",
       "      <th>Weight</th>\n",
       "    </tr>\n",
       "  </thead>\n",
       "  <tbody>\n",
       "  </tbody>\n",
       "</table>\n",
       "</div>"
      ],
      "text/plain": [
       "Empty DataFrame\n",
       "Columns: [Price, Age, KM, HP, CC, Doors, Gears, QT, Weight]\n",
       "Index: []"
      ]
     },
     "execution_count": 10,
     "metadata": {},
     "output_type": "execute_result"
    }
   ],
   "source": [
    "df1[df1.values==0.0]"
   ]
  },
  {
   "cell_type": "markdown",
   "id": "2f7c94ac-b35c-486c-9454-9541a6abc465",
   "metadata": {},
   "source": [
    "#### Observation: Notice there are no '0' values in the dataset."
   ]
  },
  {
   "cell_type": "markdown",
   "id": "efabac9d-6e1e-4b9e-ae4a-297e5c598a72",
   "metadata": {},
   "source": [
    "## Visualize Missing values"
   ]
  },
  {
   "cell_type": "code",
   "execution_count": 11,
   "id": "fecf74af-8624-4356-86b9-25e0ef48ed85",
   "metadata": {},
   "outputs": [
    {
     "data": {
      "image/png": "[encoded data removed]",
      "text/plain": [
       "<Figure size 600x300 with 2 Axes>"
      ]
     },
     "metadata": {},
     "output_type": "display_data"
    }
   ],
   "source": [
    "plt.figure(figsize=(6,3))\n",
    "sns.heatmap(df1.isnull(),cmap='viridis')\n",
    "plt.show()"
   ]
  },
  {
   "cell_type": "markdown",
   "id": "7cfc5e45-a39c-468c-95b4-0aebb1056280",
   "metadata": {},
   "source": [
    "#### Observation: No missing Values are present in the data set"
   ]
  },
  {
   "cell_type": "markdown",
   "id": "266e9c93-586f-4289-bed1-030381c10fc1",
   "metadata": {},
   "source": [
    "## Checking for Duplicated Values"
   ]
  },
  {
   "cell_type": "code",
   "execution_count": 12,
   "id": "a7b380b4-095a-4d66-85fc-e7f2769397bb",
   "metadata": {},
   "outputs": [
    {
     "data": {
      "text/plain": [
       "1"
      ]
     },
     "execution_count": 12,
     "metadata": {},
     "output_type": "execute_result"
    }
   ],
   "source": [
    "df1.duplicated().sum()"
   ]
  },
  {
   "cell_type": "code",
   "execution_count": 13,
   "id": "2feba588-52e2-426f-b1cd-c3b9cc885e97",
   "metadata": {},
   "outputs": [
    {
     "data": {
      "text/html": [
       "<div>\n",
       "<style scoped>\n",
       "    .dataframe tbody tr th:only-of-type {\n",
       "        vertical-align: middle;\n",
       "    }\n",
       "\n",
       "    .dataframe tbody tr th {\n",
       "        vertical-align: top;\n",
       "    }\n",
       "\n",
       "    .dataframe thead th {\n",
       "        text-align: right;\n",
       "    }\n",
       "</style>\n",
       "<table border=\"1\" class=\"dataframe\">\n",
       "  <thead>\n",
       "    <tr style=\"text-align: right;\">\n",
       "      <th></th>\n",
       "      <th>Price</th>\n",
       "      <th>Age</th>\n",
       "      <th>KM</th>\n",
       "      <th>HP</th>\n",
       "      <th>CC</th>\n",
       "      <th>Doors</th>\n",
       "      <th>Gears</th>\n",
       "      <th>QT</th>\n",
       "      <th>Weight</th>\n",
       "    </tr>\n",
       "  </thead>\n",
       "  <tbody>\n",
       "    <tr>\n",
       "      <th>113</th>\n",
       "      <td>24950</td>\n",
       "      <td>8</td>\n",
       "      <td>13253</td>\n",
       "      <td>116</td>\n",
       "      <td>2000</td>\n",
       "      <td>5</td>\n",
       "      <td>5</td>\n",
       "      <td>234</td>\n",
       "      <td>1320</td>\n",
       "    </tr>\n",
       "  </tbody>\n",
       "</table>\n",
       "</div>"
      ],
      "text/plain": [
       "     Price  Age     KM   HP    CC  Doors  Gears   QT  Weight\n",
       "113  24950    8  13253  116  2000      5      5  234    1320"
      ]
     },
     "execution_count": 13,
     "metadata": {},
     "output_type": "execute_result"
    }
   ],
   "source": [
    "df1[df1.duplicated()]"
   ]
  },
  {
   "cell_type": "code",
   "execution_count": 14,
   "id": "f38beaac-5408-48df-b7c9-a2d027742af1",
   "metadata": {},
   "outputs": [
    {
     "data": {
      "text/plain": [
       "(1, 9)"
      ]
     },
     "execution_count": 14,
     "metadata": {},
     "output_type": "execute_result"
    }
   ],
   "source": [
    "df1[df1.duplicated()].shape"
   ]
  },
  {
   "cell_type": "code",
   "execution_count": 15,
   "id": "54d702f4-66a5-4974-a51d-4288e79643ca",
   "metadata": {},
   "outputs": [
    {
     "data": {
      "text/html": [
       "<div>\n",
       "<style scoped>\n",
       "    .dataframe tbody tr th:only-of-type {\n",
       "        vertical-align: middle;\n",
       "    }\n",
       "\n",
       "    .dataframe tbody tr th {\n",
       "        vertical-align: top;\n",
       "    }\n",
       "\n",
       "    .dataframe thead th {\n",
       "        text-align: right;\n",
       "    }\n",
       "</style>\n",
       "<table border=\"1\" class=\"dataframe\">\n",
       "  <thead>\n",
       "    <tr style=\"text-align: right;\">\n",
       "      <th></th>\n",
       "      <th>Price</th>\n",
       "      <th>Age</th>\n",
       "      <th>KM</th>\n",
       "      <th>HP</th>\n",
       "      <th>CC</th>\n",
       "      <th>Doors</th>\n",
       "      <th>Gears</th>\n",
       "      <th>QT</th>\n",
       "      <th>Weight</th>\n",
       "    </tr>\n",
       "  </thead>\n",
       "  <tbody>\n",
       "  </tbody>\n",
       "</table>\n",
       "</div>"
      ],
      "text/plain": [
       "Empty DataFrame\n",
       "Columns: [Price, Age, KM, HP, CC, Doors, Gears, QT, Weight]\n",
       "Index: []"
      ]
     },
     "execution_count": 15,
     "metadata": {},
     "output_type": "execute_result"
    }
   ],
   "source": [
    "df1=df1.drop_duplicates().reset_index(drop=True)\n",
    "df1[df1.duplicated()]"
   ]
  },
  {
   "cell_type": "markdown",
   "id": "1ec2b7a0-4c18-4329-b4d6-cd5ecf70ef32",
   "metadata": {},
   "source": [
    "#### Observation: Notice There are duplicated values in the dataset so we dropped them."
   ]
  },
  {
   "cell_type": "markdown",
   "id": "fce96dff-172e-494e-9428-441b207476e9",
   "metadata": {},
   "source": [
    "## Visualizing Continuous Datatype for Outlier Detection"
   ]
  },
  {
   "cell_type": "code",
   "execution_count": 16,
   "id": "bc43f5d1-d3fb-4896-8ae2-bab353d167b9",
   "metadata": {},
   "outputs": [
    {
     "name": "stdout",
     "output_type": "stream",
     "text": [
      "Discrete features are: ['HP', 'CC', 'Doors', 'Gears', 'QT']\n"
     ]
    }
   ],
   "source": [
    "discrete_feature=[feature for feature in df1.columns if len(df1[feature].unique())<20 and feature]\n",
    "print('Discrete features are:', discrete_feature)"
   ]
  },
  {
   "cell_type": "code",
   "execution_count": 17,
   "id": "496bd61a-d152-4a72-b91f-0549dac10beb",
   "metadata": {},
   "outputs": [
    {
     "name": "stdout",
     "output_type": "stream",
     "text": [
      "Continuous Features are: ['Price', 'Age', 'KM', 'Weight']\n"
     ]
    }
   ],
   "source": [
    "continuous_feature=[feature for feature in df1.columns if df1[feature].dtype!='O' and feature not in discrete_feature]\n",
    "print('Continuous Features are:', continuous_feature)"
   ]
  },
  {
   "cell_type": "code",
   "execution_count": 18,
   "id": "d1c904f5-b2ee-4017-a3e8-a83c61d54132",
   "metadata": {},
   "outputs": [
    {
     "data": {
      "image/png": "[encoded data removed]",
      "text/plain": [
       "<Figure size 1200x400 with 4 Axes>"
      ]
     },
     "metadata": {},
     "output_type": "display_data"
    }
   ],
   "source": [
    "df1_1=df1.copy() \n",
    "fig, axes=plt.subplots(4,1,figsize=(12,4),sharex=False,sharey=False)\n",
    "sns.boxplot(x='Price',data=df1_1,palette='crest',ax=axes[0])\n",
    "sns.boxplot(x='Age',data=df1_1,palette='crest',ax=axes[1])\n",
    "sns.boxplot(x='KM',data=df1_1,palette='crest',ax=axes[2])\n",
    "sns.boxplot(x='Weight',data=df1_1,palette='crest',ax=axes[3])\n",
    "plt.tight_layout(pad=2.0)"
   ]
  },
  {
   "cell_type": "markdown",
   "id": "09e98e54-e98d-4cb5-8d02-12813b78b1fd",
   "metadata": {},
   "source": [
    "#### Observation: A significant amount of outliers are present in each continuous feature\n",
    "\n",
    "<ul>\n",
    "<li>We can't simply remove the outliers that would mean loss of information</li>\n",
    "<li>We need to try different types of transformation or imputation and select the one with the best results</li>\n",
    "<li>Transforming variables can also eliminate outliers. The Transformed Variables reduces the variation caused by thr extreme values</li>\n",
    "</ul>"
   ]
  },
  {
   "cell_type": "code",
   "execution_count": 19,
   "id": "789d547f-4376-4540-880f-d57567e309e0",
   "metadata": {},
   "outputs": [
    {
     "data": {
      "text/plain": [
       "50%             9900.0\n",
       "25%             8450.0\n",
       "75%            11950.0\n",
       "IQR             3500.0\n",
       "Upper_Bound    17200.0\n",
       "Lower_Bound     3200.0\n",
       "Name: Price, dtype: float64"
      ]
     },
     "execution_count": 19,
     "metadata": {},
     "output_type": "execute_result"
    }
   ],
   "source": [
    "stats = df1_1['Price'].describe()[[\"50%\",\"25%\",\"75%\"]]\n",
    "stats['IQR'] = stats[\"75%\"] - stats[\"25%\"]\n",
    "stats['Upper_Bound'] = stats[\"75%\"] + 1.5*stats['IQR']\n",
    "stats['Lower_Bound'] = stats[\"25%\"] - 1.5*stats['IQR']\n",
    "stats"
   ]
  },
  {
   "cell_type": "code",
   "execution_count": 20,
   "id": "ff9705ee-aebc-4b14-a6e1-b1648d847282",
   "metadata": {},
   "outputs": [
    {
     "data": {
      "text/plain": [
       "7     18600\n",
       "8     21500\n",
       "10    20950\n",
       "11    19950\n",
       "12    19600\n",
       "Name: Price, dtype: int64"
      ]
     },
     "execution_count": 20,
     "metadata": {},
     "output_type": "execute_result"
    }
   ],
   "source": [
    "outlier_masks = []\n",
    "\n",
    "outlier_mask = (df1_1['Price'] <= stats['Lower_Bound']) | (df1_1['Price'] >= stats['Upper_Bound'])\n",
    "outlier_masks.append(outlier_mask)\n",
    "\n",
    "outliers = df1_1.loc[outlier_masks[0], 'Price']\n",
    "outliers.head()"
   ]
  },
  {
   "cell_type": "code",
   "execution_count": 21,
   "id": "23814225-209b-416d-8124-c247f606f393",
   "metadata": {},
   "outputs": [
    {
     "data": {
      "text/plain": [
       "Index(['Price', 'Age', 'KM', 'HP', 'CC', 'Doors', 'Gears', 'QT', 'Weight'], dtype='object')"
      ]
     },
     "execution_count": 21,
     "metadata": {},
     "output_type": "execute_result"
    }
   ],
   "source": [
    "df1_1.columns"
   ]
  },
  {
   "cell_type": "code",
   "execution_count": 22,
   "id": "0d521602-3947-4cff-8d91-63232d2bcd6c",
   "metadata": {},
   "outputs": [],
   "source": [
    "cols = ['Price','Age', 'Weight', 'KM']\n",
    "i = 0\n",
    "for col in cols[1:]:\n",
    "    i = i + 1\n",
    "    stats = df1_1[col].describe()[[\"50%\",\"25%\",\"75%\"]]\n",
    "    stats['IQR'] = stats[\"75%\"] - stats[\"25%\"]\n",
    "    stats['Upper_Bound'] = stats[\"75%\"] + 1.5*stats['IQR']\n",
    "    stats['Lower_Bound'] = stats[\"25%\"] - 1.5*stats['IQR']\n",
    "\n",
    "    outlier_mask = (df1_1[col] <= stats['Lower_Bound']) | (df1_1[col] >= stats['Upper_Bound'])\n",
    "    outlier_masks.append(outlier_mask)"
   ]
  },
  {
   "cell_type": "markdown",
   "id": "1d54e1fe-24a0-4170-bf34-5ec969309f62",
   "metadata": {},
   "source": [
    "## Build Model without removing outliers"
   ]
  },
  {
   "cell_type": "code",
   "execution_count": 23,
   "id": "54adb203-6965-4996-a3e1-28b0a99b3913",
   "metadata": {},
   "outputs": [
    {
     "data": {
      "text/plain": [
       "(0.8467399730874641, 0.8464186732406873)"
      ]
     },
     "execution_count": 23,
     "metadata": {},
     "output_type": "execute_result"
    }
   ],
   "source": [
    "model = smf.ols(\"Price~Age+KM+Weight\", data = df1_1)\n",
    "raw_model = model.fit()\n",
    "raw_model.rsquared, raw_model.rsquared_adj"
   ]
  },
  {
   "cell_type": "code",
   "execution_count": 24,
   "id": "cc72d91b-bde2-4ab8-9f4b-9581706e72c2",
   "metadata": {},
   "outputs": [],
   "source": [
    "# raw_model.rsquared , raw_model.rsquared_adj "
   ]
  },
  {
   "cell_type": "markdown",
   "id": "1976abf5-5321-43d7-a536-015b9dea60bb",
   "metadata": {},
   "source": [
    "## Let's try Median Imputation to handle Outlier in continuous features"
   ]
  },
  {
   "cell_type": "code",
   "execution_count": 25,
   "id": "4544b847-782c-4126-a531-8a28004b7e47",
   "metadata": {},
   "outputs": [
    {
     "data": {
      "text/plain": [
       "Index(['Price', 'Age', 'KM', 'HP', 'CC', 'Doors', 'Gears', 'QT', 'Weight'], dtype='object')"
      ]
     },
     "execution_count": 25,
     "metadata": {},
     "output_type": "execute_result"
    }
   ],
   "source": [
    "df2 = df1.copy()\n",
    "df2.columns"
   ]
  },
  {
   "cell_type": "code",
   "execution_count": 26,
   "id": "49d3f09a-e952-4665-a1c4-ea377bb2fcd8",
   "metadata": {},
   "outputs": [
    {
     "data": {
      "image/png": "[encoded data removed]",
      "text/plain": [
       "<Figure size 1200x200 with 2 Axes>"
      ]
     },
     "metadata": {},
     "output_type": "display_data"
    },
    {
     "data": {
      "image/png": "[encoded data removed]",
      "text/plain": [
       "<Figure size 1200x200 with 2 Axes>"
      ]
     },
     "metadata": {},
     "output_type": "display_data"
    },
    {
     "data": {
      "image/png": "[encoded data removed]",
      "text/plain": [
       "<Figure size 1200x200 with 2 Axes>"
      ]
     },
     "metadata": {},
     "output_type": "display_data"
    },
    {
     "data": {
      "image/png": "[encoded data removed]",
      "text/plain": [
       "<Figure size 1200x200 with 2 Axes>"
      ]
     },
     "metadata": {},
     "output_type": "display_data"
    }
   ],
   "source": [
    "cols = ['Price','Age','Weight','KM']\n",
    "i = 0\n",
    "for col in cols:\n",
    "    median = df2[col].median()\n",
    "\n",
    "    plt.subplots(1,2,figsize = (12,2))\n",
    "    \n",
    "    outliers_before_imputation = df2.loc[outlier_masks[i], col]\n",
    "    # outliers_before_imputation.shape = 110, 7, 65, 49.\n",
    "    plt.subplot(1,2,1)\n",
    "    plt.boxplot(df2[col], vert=False)\n",
    "    plt.title(\"Boxplot of \"+col+\" before Median Imputation\")\n",
    "    \n",
    "    # Impute outliers with median\n",
    "    df2.loc[outlier_masks[i], col] = median\n",
    "    \n",
    "    outliers_after_imputation = df2.loc[outlier_masks[i], col]\n",
    "\n",
    "    plt.subplot(1,2,2)\n",
    "    plt.boxplot(df2[col],vert=False)\n",
    "    plt.title(\"Boxplot of \"+col+\" after Median Imputation\")\n",
    "    plt.tight_layout()\n",
    "    plt.show()\n",
    "\n",
    "    i=i+1"
   ]
  },
  {
   "cell_type": "markdown",
   "id": "061be665-66d5-428a-9bb9-00966160af4c",
   "metadata": {},
   "source": [
    "## Let's test our data in model and compare the R-squared with Median imputation data model"
   ]
  },
  {
   "cell_type": "code",
   "execution_count": 27,
   "id": "7d27254e-b225-4347-b810-04d19170540e",
   "metadata": {},
   "outputs": [
    {
     "data": {
      "text/plain": [
       "(0.4647823098851873, 0.46366026022037643)"
      ]
     },
     "execution_count": 27,
     "metadata": {},
     "output_type": "execute_result"
    }
   ],
   "source": [
    "model = smf.ols(\"Price~Age+KM+Weight\", data = df2)\n",
    "after_median_imputation_model = model.fit()\n",
    "after_median_imputation_model.rsquared , after_median_imputation_model.rsquared_adj "
   ]
  },
  {
   "cell_type": "markdown",
   "id": "181bea2a-5ac6-4271-b9a0-3c103cdaae25",
   "metadata": {},
   "source": [
    "#### Observation: As you can see after median imputation the model is not performing well."
   ]
  },
  {
   "cell_type": "markdown",
   "id": "22e7e7c6-d9fd-4f1f-b5e1-e24c96366adb",
   "metadata": {},
   "source": [
    "## Let's try Mean Imputation to handle Outlier in Profit"
   ]
  },
  {
   "cell_type": "code",
   "execution_count": 28,
   "id": "3cda2091-3d59-4b81-b858-1632d7ebdffd",
   "metadata": {},
   "outputs": [],
   "source": [
    "df3 = df1.copy()"
   ]
  },
  {
   "cell_type": "code",
   "execution_count": 29,
   "id": "34f0b1e6-4db9-43dd-90b7-47d9db5183e6",
   "metadata": {},
   "outputs": [
    {
     "data": {
      "image/png": "[encoded data removed]",
      "text/plain": [
       "<Figure size 1200x200 with 2 Axes>"
      ]
     },
     "metadata": {},
     "output_type": "display_data"
    },
    {
     "data": {
      "image/png": "[encoded data removed]",
      "text/plain": [
       "<Figure size 1200x200 with 2 Axes>"
      ]
     },
     "metadata": {},
     "output_type": "display_data"
    },
    {
     "data": {
      "image/png": "[encoded data removed]",
      "text/plain": [
       "<Figure size 1200x200 with 2 Axes>"
      ]
     },
     "metadata": {},
     "output_type": "display_data"
    },
    {
     "data": {
      "image/png": "[encoded data removed]",
      "text/plain": [
       "<Figure size 1200x200 with 2 Axes>"
      ]
     },
     "metadata": {},
     "output_type": "display_data"
    }
   ],
   "source": [
    "cols = ['Price','Age','Weight','KM']\n",
    "i = 0\n",
    "for col in cols:\n",
    "    mean = df3[col].mean()\n",
    "\n",
    "    plt.subplots(1,2,figsize = (12,2))\n",
    "    \n",
    "    outliers_before_imputation = df3.loc[outlier_masks[i], col]\n",
    "    # outliers_before_imputation.shape = 110, 7, 65, 49.\n",
    "    plt.subplot(1,2,1)\n",
    "    plt.boxplot(df3[col], vert=False)\n",
    "    plt.title(\"Boxplot of \"+col+\" before Mean Imputation\")\n",
    "    \n",
    "    # Impute outliers with mean\n",
    "    df3.loc[outlier_masks[i], col] = mean\n",
    "    \n",
    "    outliers_after_imputation = df3.loc[outlier_masks[i], col]\n",
    "\n",
    "    plt.subplot(1,2,2)\n",
    "    plt.boxplot(df3[col],vert=False)\n",
    "    plt.title(\"Boxplot of \"+col+\" after Mean Imputation\")\n",
    "    plt.tight_layout()\n",
    "    plt.show()\n",
    "\n",
    "    i=i+1"
   ]
  },
  {
   "cell_type": "code",
   "execution_count": 30,
   "id": "e8a2c33c-7917-49ad-a026-585f03ab5deb",
   "metadata": {},
   "outputs": [
    {
     "data": {
      "text/plain": [
       "(0.5400001115456343, 0.5390357511924806)"
      ]
     },
     "execution_count": 30,
     "metadata": {},
     "output_type": "execute_result"
    }
   ],
   "source": [
    "model = smf.ols(\"Price~Age+KM+Weight\", data = df3)\n",
    "after_mean_imputation_model = model.fit()\n",
    "after_mean_imputation_model.rsquared , after_mean_imputation_model.rsquared_adj "
   ]
  },
  {
   "cell_type": "markdown",
   "id": "9db32c5c-6ef9-411b-a1b5-f3f6c2d1bd69",
   "metadata": {},
   "source": [
    "#### Observation: As you can see after mean imputation the model is performing well as compared to median but let's consider next case."
   ]
  },
  {
   "cell_type": "markdown",
   "id": "29d96e7c-2569-4b94-be9f-5ed8aa21e698",
   "metadata": {},
   "source": [
    "## Now to remove the outlier and fit the model"
   ]
  },
  {
   "cell_type": "code",
   "execution_count": 31,
   "id": "436c7006-1dfc-46e7-bab2-d7f86b5933f6",
   "metadata": {},
   "outputs": [
    {
     "data": {
      "text/plain": [
       "(1435, 9)"
      ]
     },
     "execution_count": 31,
     "metadata": {},
     "output_type": "execute_result"
    }
   ],
   "source": [
    "df4 = df1.copy()\n",
    "df4.shape"
   ]
  },
  {
   "cell_type": "code",
   "execution_count": 32,
   "id": "e7f780d1-8011-45c2-a341-62208c3293d6",
   "metadata": {},
   "outputs": [
    {
     "data": {
      "text/plain": [
       "(1254, 9)"
      ]
     },
     "execution_count": 32,
     "metadata": {},
     "output_type": "execute_result"
    }
   ],
   "source": [
    "df4 = df4[~( (outlier_masks[0]) | (outlier_masks[1]) | (outlier_masks[2]) | (outlier_masks[3]) )] \n",
    "df4.shape"
   ]
  },
  {
   "cell_type": "code",
   "execution_count": 33,
   "id": "ae736880-262a-44a7-9f36-75589cb2a0fe",
   "metadata": {},
   "outputs": [
    {
     "data": {
      "text/plain": [
       "(0.77962547509187, 0.7790965762320905)"
      ]
     },
     "execution_count": 33,
     "metadata": {},
     "output_type": "execute_result"
    }
   ],
   "source": [
    "model = smf.ols(\"Price~Age+KM+Weight\", data = df4)\n",
    "# model = smf.ols(\"Profit~RDS+MKTS\", data = df4) passed cook's distance.\n",
    "removed_outlier_model = model.fit()\n",
    "removed_outlier_model.rsquared , removed_outlier_model.rsquared_adj"
   ]
  },
  {
   "cell_type": "code",
   "execution_count": 34,
   "id": "b3ef690b-3502-4f4b-b0a9-7ea88bc4cf76",
   "metadata": {},
   "outputs": [
    {
     "data": {
      "text/plain": [
       "1066.2936465311118"
      ]
     },
     "execution_count": 34,
     "metadata": {},
     "output_type": "execute_result"
    }
   ],
   "source": [
    "np.sqrt(removed_outlier_model.mse_resid)"
   ]
  },
  {
   "cell_type": "markdown",
   "id": "e600f894-6f5c-42d6-a377-0921ad7d15ef",
   "metadata": {},
   "source": [
    "#### Observation: A Slightly better score of 77.96%"
   ]
  },
  {
   "cell_type": "markdown",
   "id": "81e1a6c3-9c9c-4968-90a4-861d89907638",
   "metadata": {},
   "source": [
    "## Detecting Influencers/Outliers in the raw data model"
   ]
  },
  {
   "cell_type": "code",
   "execution_count": 35,
   "id": "fe58dd62-2d0f-4243-9401-f31103f45cbd",
   "metadata": {},
   "outputs": [
    {
     "data": {
      "text/plain": [
       "Index(['Price', 'Age', 'KM', 'HP', 'CC', 'Doors', 'Gears', 'QT', 'Weight'], dtype='object')"
      ]
     },
     "execution_count": 35,
     "metadata": {},
     "output_type": "execute_result"
    }
   ],
   "source": [
    "df1_1.columns"
   ]
  },
  {
   "cell_type": "code",
   "execution_count": 36,
   "id": "1c6ce150-e0d0-4331-b187-6e209b4a96e2",
   "metadata": {},
   "outputs": [
    {
     "data": {
      "text/plain": [
       "(0.8625200256947, 0.8617487495415146)"
      ]
     },
     "execution_count": 36,
     "metadata": {},
     "output_type": "execute_result"
    }
   ],
   "source": [
    "model = smf.ols(\"Price~Age+KM+Weight+HP+CC+Gears+QT+Doors\", data = df1_1)\n",
    "raw_data_model = model.fit()\n",
    "raw_data_model.rsquared, raw_data_model.rsquared_adj"
   ]
  },
  {
   "cell_type": "code",
   "execution_count": 37,
   "id": "d27dd482-a11e-4733-a439-8378ed535e93",
   "metadata": {},
   "outputs": [],
   "source": [
    "influence_points=raw_data_model.get_influence()\n",
    "c, p_value=influence_points.cooks_distance"
   ]
  },
  {
   "cell_type": "markdown",
   "id": "6e096893-42b4-448d-8838-ab4d73c6f5d4",
   "metadata": {},
   "source": [
    "#### Leverage Cuttoff Value = 3*(k+1)/n ; k = no.of features/columns & n = no. of datapoints"
   ]
  },
  {
   "cell_type": "code",
   "execution_count": 38,
   "id": "6a5f28da-1675-44b8-8275-9ca84a0ae12b",
   "metadata": {},
   "outputs": [
    {
     "name": "stdout",
     "output_type": "stream",
     "text": [
      "Cut-off line at 0.02\n"
     ]
    }
   ],
   "source": [
    "k=df1_1.shape[1]\n",
    "n=df1_1.shape[0]\n",
    "leverage_cutoff = (3*(k+1))/n\n",
    "print('Cut-off line at',np.round(leverage_cutoff,2)) #0.37"
   ]
  },
  {
   "cell_type": "markdown",
   "id": "12de63a8-7e04-4bb7-af91-a85b0cabce69",
   "metadata": {},
   "source": [
    "#### Let's plot the influencers and also plot a cut off line using the stem plot"
   ]
  },
  {
   "cell_type": "code",
   "execution_count": 39,
   "id": "674fa07f-7b24-4403-bfac-2c4a7ae34026",
   "metadata": {},
   "outputs": [
    {
     "data": {
      "text/plain": [
       "(1435, 9)"
      ]
     },
     "execution_count": 39,
     "metadata": {},
     "output_type": "execute_result"
    }
   ],
   "source": [
    "df1_1.shape"
   ]
  },
  {
   "cell_type": "code",
   "execution_count": 40,
   "id": "c705d11f-8e50-4c34-81c5-e867e754a68a",
   "metadata": {},
   "outputs": [
    {
     "data": {
      "image/png": "[encoded data removed]",
      "text/plain": [
       "<Figure size 800x400 with 1 Axes>"
      ]
     },
     "metadata": {},
     "output_type": "display_data"
    }
   ],
   "source": [
    "fig = plt.figure(figsize = (8,4))\n",
    "x = [0,1434]\n",
    "y = [0.5,0.5]\n",
    "plt.plot(x, y,color='darkred', linewidth=2)\n",
    "y1 = [np.round(leverage_cutoff,2), np.round(leverage_cutoff,2)]\n",
    "plt.plot(x , y1, color = 'red', linewidth = 2)\n",
    "plt.stem(np.arange(len(df1_1)), np.round(c, 3))\n",
    "plt.xlabel('Row index')\n",
    "plt.ylabel(\"Cook's Distance\")\n",
    "plt.show()"
   ]
  },
  {
   "cell_type": "code",
   "execution_count": 41,
   "id": "6c54530b-2d0b-464c-9293-47f9ded7c71e",
   "metadata": {},
   "outputs": [
    {
     "data": {
      "text/plain": [
       "(80, 78.72950582252706)"
      ]
     },
     "execution_count": 41,
     "metadata": {},
     "output_type": "execute_result"
    }
   ],
   "source": [
    "np.argmax(c) , np.max(c)"
   ]
  },
  {
   "cell_type": "code",
   "execution_count": 42,
   "id": "3d1e9685-1a7c-4fa9-853d-0977b381299a",
   "metadata": {},
   "outputs": [
    {
     "data": {
      "text/html": [
       "<div>\n",
       "<style scoped>\n",
       "    .dataframe tbody tr th:only-of-type {\n",
       "        vertical-align: middle;\n",
       "    }\n",
       "\n",
       "    .dataframe tbody tr th {\n",
       "        vertical-align: top;\n",
       "    }\n",
       "\n",
       "    .dataframe thead th {\n",
       "        text-align: right;\n",
       "    }\n",
       "</style>\n",
       "<table border=\"1\" class=\"dataframe\">\n",
       "  <thead>\n",
       "    <tr style=\"text-align: right;\">\n",
       "      <th></th>\n",
       "      <th>Price</th>\n",
       "      <th>Age</th>\n",
       "      <th>KM</th>\n",
       "      <th>HP</th>\n",
       "      <th>CC</th>\n",
       "      <th>Doors</th>\n",
       "      <th>Gears</th>\n",
       "      <th>QT</th>\n",
       "      <th>Weight</th>\n",
       "    </tr>\n",
       "  </thead>\n",
       "  <tbody>\n",
       "    <tr>\n",
       "      <th>80</th>\n",
       "      <td>18950</td>\n",
       "      <td>25</td>\n",
       "      <td>20019</td>\n",
       "      <td>110</td>\n",
       "      <td>16000</td>\n",
       "      <td>5</td>\n",
       "      <td>5</td>\n",
       "      <td>100</td>\n",
       "      <td>1180</td>\n",
       "    </tr>\n",
       "  </tbody>\n",
       "</table>\n",
       "</div>"
      ],
      "text/plain": [
       "    Price  Age     KM   HP     CC  Doors  Gears   QT  Weight\n",
       "80  18950   25  20019  110  16000      5      5  100    1180"
      ]
     },
     "execution_count": 42,
     "metadata": {},
     "output_type": "execute_result"
    }
   ],
   "source": [
    "df1_1[df1_1.index.isin([80])]"
   ]
  },
  {
   "cell_type": "markdown",
   "id": "2044cf4c-646c-49b8-bea3-9d093cc8c480",
   "metadata": {},
   "source": [
    "#### Let's improve the model by deleting the influence point and creating a new dataframe"
   ]
  },
  {
   "cell_type": "code",
   "execution_count": 43,
   "id": "3807a87c-19c0-40f9-a151-8673583dbe08",
   "metadata": {},
   "outputs": [],
   "source": [
    "df5 = df1_1"
   ]
  },
  {
   "cell_type": "code",
   "execution_count": 44,
   "id": "7be52205-57ab-49cf-ad3b-92f0a8d0e885",
   "metadata": {},
   "outputs": [
    {
     "name": "stdout",
     "output_type": "stream",
     "text": [
      "Thus model accuracy is improved to 0.9003762532318558\n"
     ]
    }
   ],
   "source": [
    "while raw_data_model.rsquared < 0.90:\n",
    "    for c in [np.max(c)>leverage_cutoff]:\n",
    "        raw_data_model=smf.ols('Price~Age+KM+HP+CC+Doors+Gears+QT+Weight',data=df5).fit()\n",
    "        c, _ =raw_data_model.get_influence().cooks_distance\n",
    "        # print(\"np.argmax(c) , np.max(c):\",np.argmax(c) , np.max(c))\n",
    "        df5=df5.drop(df5.index[[np.argmax(c)]],axis=0).reset_index(drop=True)\n",
    "        # print(\"The model accuracy is improved to\",raw_data_model.rsquared)\n",
    "\n",
    "final_model=smf.ols('Price~Age+KM+HP+CC+Doors+Gears+QT+Weight',data=df5).fit()\n",
    "final_model.rsquared , final_model.aic\n",
    "print(\"Thus model accuracy is improved to\",final_model.rsquared)"
   ]
  },
  {
   "cell_type": "code",
   "execution_count": 45,
   "id": "e15fa1eb-a30f-4d47-b73a-3c6c5dbbe46b",
   "metadata": {},
   "outputs": [],
   "source": [
    "c, p_value = final_model.get_influence().cooks_distance"
   ]
  },
  {
   "cell_type": "code",
   "execution_count": 46,
   "id": "757f9a9f-eb3e-4334-8a59-8d18a6ba0b1d",
   "metadata": {},
   "outputs": [
    {
     "data": {
      "text/plain": [
       "(1330, 9)"
      ]
     },
     "execution_count": 46,
     "metadata": {},
     "output_type": "execute_result"
    }
   ],
   "source": [
    "df5.shape"
   ]
  },
  {
   "cell_type": "code",
   "execution_count": 47,
   "id": "7738230d-8010-4f6a-9dc0-0e8a80bef85c",
   "metadata": {},
   "outputs": [
    {
     "data": {
      "image/png": "[encoded data removed]",
      "text/plain": [
       "<Figure size 800x400 with 1 Axes>"
      ]
     },
     "metadata": {},
     "output_type": "display_data"
    }
   ],
   "source": [
    "fig = plt.figure(figsize = (8,4))\n",
    "x = [0, df5.shape[0] - 1]\n",
    "y = [0.5, 0.5]\n",
    "plt.plot(x, y,color='darkred', linewidth=2)\n",
    "y1 = [np.round(leverage_cutoff,2), np.round(leverage_cutoff,2)]\n",
    "plt.plot(x , y1, color = 'red', linewidth = 2)\n",
    "plt.stem(np.arange(len(df5)), np.round(c, 3))\n",
    "plt.xlabel('Row index')\n",
    "plt.ylabel(\"Cook's Distance\")\n",
    "plt.show()"
   ]
  },
  {
   "cell_type": "markdown",
   "id": "0c37d8ce-59ae-48b3-880d-456c521e038f",
   "metadata": {},
   "source": [
    "#### Observation: All the points are below our cut-off line\n",
    "Hence, we can say that there are no influncers present in our final model we can proceed with the predictions"
   ]
  },
  {
   "cell_type": "markdown",
   "id": "28cd545d-b5aa-4bc7-add5-833cd72563a2",
   "metadata": {},
   "source": [
    "## Model Predictions"
   ]
  },
  {
   "cell_type": "code",
   "execution_count": 48,
   "id": "0a238ecb-10ea-4f13-a527-d324f38567e8",
   "metadata": {},
   "outputs": [
    {
     "data": {
      "text/plain": [
       "(0.9003762532318558, 0.8997729300114582, 975.92713992628)"
      ]
     },
     "execution_count": 48,
     "metadata": {},
     "output_type": "execute_result"
    }
   ],
   "source": [
    "final_model.rsquared, final_model.rsquared_adj, np.sqrt(final_model.mse_resid)"
   ]
  },
  {
   "cell_type": "code",
   "execution_count": 49,
   "id": "22f5e0a5-fe7d-4de8-84e5-70ca9903e17c",
   "metadata": {},
   "outputs": [
    {
     "data": {
      "text/plain": [
       "Index(['Price', 'Age', 'KM', 'HP', 'CC', 'Doors', 'Gears', 'QT', 'Weight'], dtype='object')"
      ]
     },
     "execution_count": 49,
     "metadata": {},
     "output_type": "execute_result"
    }
   ],
   "source": [
    "df5.columns"
   ]
  },
  {
   "cell_type": "code",
   "execution_count": 50,
   "id": "d66bee97-955a-4e27-9a5e-4131603e8b6a",
   "metadata": {},
   "outputs": [
    {
     "data": {
      "text/html": [
       "<div>\n",
       "<style scoped>\n",
       "    .dataframe tbody tr th:only-of-type {\n",
       "        vertical-align: middle;\n",
       "    }\n",
       "\n",
       "    .dataframe tbody tr th {\n",
       "        vertical-align: top;\n",
       "    }\n",
       "\n",
       "    .dataframe thead th {\n",
       "        text-align: right;\n",
       "    }\n",
       "</style>\n",
       "<table border=\"1\" class=\"dataframe\">\n",
       "  <thead>\n",
       "    <tr style=\"text-align: right;\">\n",
       "      <th></th>\n",
       "      <th>Age</th>\n",
       "      <th>KM</th>\n",
       "      <th>HP</th>\n",
       "      <th>CC</th>\n",
       "      <th>Doors</th>\n",
       "      <th>Gears</th>\n",
       "      <th>QT</th>\n",
       "      <th>Weight</th>\n",
       "      <th>Price</th>\n",
       "      <th>Predicted_Price</th>\n",
       "    </tr>\n",
       "  </thead>\n",
       "  <tbody>\n",
       "    <tr>\n",
       "      <th>0</th>\n",
       "      <td>23</td>\n",
       "      <td>72937</td>\n",
       "      <td>90</td>\n",
       "      <td>2000</td>\n",
       "      <td>3</td>\n",
       "      <td>5</td>\n",
       "      <td>210</td>\n",
       "      <td>1165</td>\n",
       "      <td>13750</td>\n",
       "      <td>15354.362106</td>\n",
       "    </tr>\n",
       "    <tr>\n",
       "      <th>1</th>\n",
       "      <td>26</td>\n",
       "      <td>48000</td>\n",
       "      <td>90</td>\n",
       "      <td>2000</td>\n",
       "      <td>3</td>\n",
       "      <td>5</td>\n",
       "      <td>210</td>\n",
       "      <td>1165</td>\n",
       "      <td>14950</td>\n",
       "      <td>15415.237858</td>\n",
       "    </tr>\n",
       "    <tr>\n",
       "      <th>2</th>\n",
       "      <td>30</td>\n",
       "      <td>38500</td>\n",
       "      <td>90</td>\n",
       "      <td>2000</td>\n",
       "      <td>3</td>\n",
       "      <td>5</td>\n",
       "      <td>210</td>\n",
       "      <td>1170</td>\n",
       "      <td>13750</td>\n",
       "      <td>15314.008799</td>\n",
       "    </tr>\n",
       "    <tr>\n",
       "      <th>3</th>\n",
       "      <td>32</td>\n",
       "      <td>61000</td>\n",
       "      <td>90</td>\n",
       "      <td>2000</td>\n",
       "      <td>3</td>\n",
       "      <td>5</td>\n",
       "      <td>210</td>\n",
       "      <td>1170</td>\n",
       "      <td>12950</td>\n",
       "      <td>14749.534289</td>\n",
       "    </tr>\n",
       "    <tr>\n",
       "      <th>4</th>\n",
       "      <td>27</td>\n",
       "      <td>94612</td>\n",
       "      <td>90</td>\n",
       "      <td>2000</td>\n",
       "      <td>3</td>\n",
       "      <td>5</td>\n",
       "      <td>210</td>\n",
       "      <td>1245</td>\n",
       "      <td>16900</td>\n",
       "      <td>17544.273936</td>\n",
       "    </tr>\n",
       "  </tbody>\n",
       "</table>\n",
       "</div>"
      ],
      "text/plain": [
       "   Age     KM  HP    CC  Doors  Gears   QT  Weight  Price  Predicted_Price\n",
       "0   23  72937  90  2000      3      5  210    1165  13750     15354.362106\n",
       "1   26  48000  90  2000      3      5  210    1165  14950     15415.237858\n",
       "2   30  38500  90  2000      3      5  210    1170  13750     15314.008799\n",
       "3   32  61000  90  2000      3      5  210    1170  12950     14749.534289\n",
       "4   27  94612  90  2000      3      5  210    1245  16900     17544.273936"
      ]
     },
     "execution_count": 50,
     "metadata": {},
     "output_type": "execute_result"
    }
   ],
   "source": [
    "predicted = pd.DataFrame()\n",
    "predicted['Age'] = df5.Age\n",
    "predicted['KM'] = df5.KM\n",
    "predicted['HP'] = df5.HP\n",
    "predicted['CC'] = df5.CC\n",
    "predicted['Doors'] = df5.Doors\n",
    "predicted['Gears'] = df5.Gears\n",
    "predicted['QT'] = df5.QT\n",
    "predicted['Weight'] = df5.Weight\n",
    "\n",
    "predicted['Price'] = df5.Price\n",
    "predicted['Predicted_Price'] = pd.DataFrame(final_model.predict(predicted[['Age','KM','HP','CC','Doors','Gears','QT','Weight']]))\n",
    "predicted.head()"
   ]
  },
  {
   "cell_type": "markdown",
   "id": "840a8fa6-dc8e-492a-b1f3-44b448d437d6",
   "metadata": {},
   "source": [
    "## Table containing metrics for each prepared model"
   ]
  },
  {
   "cell_type": "code",
   "execution_count": 51,
   "id": "a5b7f5bf-45e6-4c93-8d04-70615b0b0751",
   "metadata": {},
   "outputs": [
    {
     "data": {
      "text/html": [
       "<div>\n",
       "<style scoped>\n",
       "    .dataframe tbody tr th:only-of-type {\n",
       "        vertical-align: middle;\n",
       "    }\n",
       "\n",
       "    .dataframe tbody tr th {\n",
       "        vertical-align: top;\n",
       "    }\n",
       "\n",
       "    .dataframe thead th {\n",
       "        text-align: right;\n",
       "    }\n",
       "</style>\n",
       "<table border=\"1\" class=\"dataframe\">\n",
       "  <thead>\n",
       "    <tr style=\"text-align: right;\">\n",
       "      <th></th>\n",
       "      <th>rsquared</th>\n",
       "      <th>rsquared_adj</th>\n",
       "      <th>RMSE</th>\n",
       "    </tr>\n",
       "  </thead>\n",
       "  <tbody>\n",
       "    <tr>\n",
       "      <th>raw_model</th>\n",
       "      <td>0.846740</td>\n",
       "      <td>0.846419</td>\n",
       "      <td>1414.242733</td>\n",
       "    </tr>\n",
       "    <tr>\n",
       "      <th>after_median_imputation_model</th>\n",
       "      <td>0.464782</td>\n",
       "      <td>0.463660</td>\n",
       "      <td>1659.128255</td>\n",
       "    </tr>\n",
       "    <tr>\n",
       "      <th>after_mean_imputation_model</th>\n",
       "      <td>0.540000</td>\n",
       "      <td>0.539036</td>\n",
       "      <td>1544.584149</td>\n",
       "    </tr>\n",
       "    <tr>\n",
       "      <th>removed_outlier_model</th>\n",
       "      <td>0.779625</td>\n",
       "      <td>0.779097</td>\n",
       "      <td>1066.293647</td>\n",
       "    </tr>\n",
       "    <tr>\n",
       "      <th>final_model</th>\n",
       "      <td>0.900376</td>\n",
       "      <td>0.899773</td>\n",
       "      <td>975.927140</td>\n",
       "    </tr>\n",
       "  </tbody>\n",
       "</table>\n",
       "</div>"
      ],
      "text/plain": [
       "                               rsquared  rsquared_adj         RMSE\n",
       "raw_model                      0.846740      0.846419  1414.242733\n",
       "after_median_imputation_model  0.464782      0.463660  1659.128255\n",
       "after_mean_imputation_model    0.540000      0.539036  1544.584149\n",
       "removed_outlier_model          0.779625      0.779097  1066.293647\n",
       "final_model                    0.900376      0.899773   975.927140"
      ]
     },
     "execution_count": 51,
     "metadata": {},
     "output_type": "execute_result"
    }
   ],
   "source": [
    "vals = dict()\n",
    "\n",
    "models = [raw_model, after_median_imputation_model, after_mean_imputation_model, removed_outlier_model, final_model]\n",
    "rsquared_values, rsquared_adj_values, rmse_values = [], [], []\n",
    "\n",
    "for x in models:\n",
    "    rsquared_values.append(x.rsquared)\n",
    "    rsquared_adj_values.append(x.rsquared_adj)\n",
    "    rmse_values.append(np.sqrt(x.mse_resid))\n",
    "\n",
    "vals['rsquared'] = rsquared_values\n",
    "vals['rsquared_adj'] = rsquared_adj_values\n",
    "vals['RMSE'] = rmse_values\n",
    "\n",
    "indexes = ['raw_model', 'after_median_imputation_model', 'after_mean_imputation_model', 'removed_outlier_model', 'final_model']\n",
    "model_metrics = pd.DataFrame(data = vals, index = indexes)\n",
    "model_metrics"
   ]
  },
  {
   "cell_type": "markdown",
   "id": "333b30e1-0777-4788-8d40-cdfdd91d19b4",
   "metadata": {},
   "source": [
    "## Visualize Model Performance"
   ]
  },
  {
   "cell_type": "code",
   "execution_count": 52,
   "id": "a0a9acff-71c3-4fef-add6-6f25f3b77e10",
   "metadata": {},
   "outputs": [
    {
     "data": {
      "image/png": "[encoded data removed]",
      "text/plain": [
       "<Figure size 600x400 with 1 Axes>"
      ]
     },
     "metadata": {},
     "output_type": "display_data"
    }
   ],
   "source": [
    "plt.figure(figsize=(6,4))\n",
    "plt.barh(y=model_metrics.index, width = model_metrics.rsquared, height=0.8)\n",
    "plt.tight_layout()\n",
    "plt.xlabel(xlabel='rsquared')\n",
    "plt.show()"
   ]
  }
 ],
 "metadata": {
  "kernelspec": {
   "display_name": "Python 3 (ipykernel)",
   "language": "python",
   "name": "python3"
  },
  "language_info": {
   "codemirror_mode": {
    "name": "ipython",
    "version": 3
   },
   "file_extension": ".py",
   "mimetype": "text/x-python",
   "name": "python",
   "nbconvert_exporter": "python",
   "pygments_lexer": "ipython3",
   "version": "3.11.0"
  }
 },
 "nbformat": 4,
 "nbformat_minor": 5
}
